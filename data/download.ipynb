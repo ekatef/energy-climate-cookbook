{
 "cells": [
  {
   "cell_type": "markdown",
   "metadata": {},
   "source": [
    "This notebook contains a link to all the data files used in this repository"
   ]
  },
  {
   "cell_type": "markdown",
   "metadata": {},
   "source": [
    "Filename: `era5-u100_v100_201903.grib`\n",
    "\n",
    "Source: [Copernicus Climate Data Store](https://cds-beta.climate.copernicus.eu/datasets/reanalysis-era5-single-levels?tab=overview)\n",
    "\n",
    "Size: ~37 MB"
   ]
  },
  {
   "cell_type": "code",
   "execution_count": 1,
   "metadata": {
    "application/vnd.databricks.v1+cell": {
     "cellMetadata": {
      "byteLimit": 2048000,
      "rowLimit": 10000
     },
     "inputWidgets": {},
     "nuid": "74204dcc-e8bb-495c-b147-a7233fc76331",
     "showTitle": false,
     "title": ""
    }
   },
   "outputs": [
    {
     "name": "stderr",
     "output_type": "stream",
     "text": [
      "Downloading...\n",
      "From: https://drive.google.com/uc?id=1r-BSm3vF-Ey0ss-uZESU06u152ewsrGR\n",
      "To: c:\\Users\\matte\\OneDrive\\local\\work\\energy-climate-cookbook\\data\\era5-u100_v100_201903.grib\n",
      "\n",
      "  0%|          | 0.00/37.5M [00:00<?, ?B/s]\n",
      "  4%|▍         | 1.57M/37.5M [00:00<00:02, 15.7MB/s]\n",
      " 11%|█         | 4.19M/37.5M [00:00<00:01, 21.6MB/s]\n",
      " 18%|█▊        | 6.82M/37.5M [00:00<00:01, 22.7MB/s]\n",
      " 25%|██▌       | 9.44M/37.5M [00:00<00:01, 24.0MB/s]\n",
      " 32%|███▏      | 12.1M/37.5M [00:00<00:01, 24.4MB/s]\n",
      " 39%|███▉      | 14.7M/37.5M [00:00<00:00, 23.4MB/s]\n",
      " 46%|████▌     | 17.3M/37.5M [00:00<00:00, 23.3MB/s]\n",
      " 53%|█████▎    | 19.9M/37.5M [00:00<00:00, 24.0MB/s]\n",
      " 60%|██████    | 22.5M/37.5M [00:00<00:00, 24.4MB/s]\n",
      " 67%|██████▋   | 25.2M/37.5M [00:01<00:00, 24.7MB/s]\n",
      " 76%|███████▌  | 28.3M/37.5M [00:01<00:00, 25.0MB/s]\n",
      " 82%|████████▏ | 30.9M/37.5M [00:01<00:00, 25.3MB/s]\n",
      " 89%|████████▉ | 33.6M/37.5M [00:01<00:00, 25.4MB/s]\n",
      " 96%|█████████▋| 36.2M/37.5M [00:01<00:00, 25.6MB/s]\n",
      "100%|██████████| 37.5M/37.5M [00:01<00:00, 24.4MB/s]\n"
     ]
    }
   ],
   "source": [
    "!gdown 1r-BSm3vF-Ey0ss-uZESU06u152ewsrGR\n"
   ]
  },
  {
   "cell_type": "markdown",
   "metadata": {},
   "source": [
    "Filename: `Vestas_v110_2000MW_ECEM_turbine.csv`\n",
    "\n",
    "Source: C3S ECEM / S2S4E project code / [UREAD_energy_models_demo_scripts](https://github.com/hcbloomfield19/UREAD_energy_models_demo_scripts)\n",
    "\n",
    "Size: 1 KB"
   ]
  },
  {
   "cell_type": "code",
   "execution_count": 2,
   "metadata": {},
   "outputs": [
    {
     "name": "stderr",
     "output_type": "stream",
     "text": [
      "Downloading...\n",
      "From: https://drive.google.com/uc?id=141lfuDUhAWVCodcXVrZrY7NJiDN4EL6I\n",
      "To: c:\\Users\\matte\\OneDrive\\local\\work\\energy-climate-cookbook\\data\\Vestas_v110_2000MW_ECEM_turbine.csv\n",
      "\n",
      "  0%|          | 0.00/917 [00:00<?, ?B/s]\n",
      "100%|██████████| 917/917 [00:00<?, ?B/s] \n"
     ]
    }
   ],
   "source": [
    "!gdown 141lfuDUhAWVCodcXVrZrY7NJiDN4EL6I"
   ]
  },
  {
   "cell_type": "markdown",
   "metadata": {},
   "source": [
    "Filename: `hgt_djf.nc`\n",
    "\n",
    "Source: [Github eofs](https://github.com/ajdawson/eofs/tree/main/lib/eofs/examples/example_data)\n",
    "\n",
    "Size: 727 KB"
   ]
  },
  {
   "cell_type": "code",
   "execution_count": 3,
   "metadata": {},
   "outputs": [
    {
     "name": "stderr",
     "output_type": "stream",
     "text": [
      "Downloading...\n",
      "From: https://drive.google.com/uc?id=16TwSsPuEFTmkaVKAh91x3IjZlyDTqC5I\n",
      "To: c:\\Users\\matte\\OneDrive\\local\\work\\energy-climate-cookbook\\data\\hgt_djf.nc\n",
      "\n",
      "  0%|          | 0.00/743k [00:00<?, ?B/s]\n",
      "100%|██████████| 743k/743k [00:00<00:00, 13.2MB/s]\n"
     ]
    }
   ],
   "source": [
    "!gdown 16TwSsPuEFTmkaVKAh91x3IjZlyDTqC5I"
   ]
  },
  {
   "cell_type": "markdown",
   "metadata": {},
   "source": [
    "Filename: `ERA5_full_demand_all_countries_2000_2019_hourly.parquet`\n",
    "\n",
    "Source: [University of Reading Research Data Archive](https://researchdata.reading.ac.uk/273/) (converted to Parquet)\n",
    "\n",
    "Size: ~44 MB"
   ]
  },
  {
   "cell_type": "code",
   "execution_count": 1,
   "metadata": {
    "application/vnd.databricks.v1+cell": {
     "cellMetadata": {},
     "inputWidgets": {},
     "nuid": "14a79117-cbe4-4cf1-900b-bdb23ce105c9",
     "showTitle": false,
     "title": ""
    }
   },
   "outputs": [
    {
     "name": "stderr",
     "output_type": "stream",
     "text": [
      "Downloading...\n",
      "From: https://drive.google.com/uc?id=13ldCzdtStvJgNOFHaFzOR5udtEeFf0i4\n",
      "To: c:\\Users\\matte\\OneDrive\\local\\work\\energy-climate-cookbook\\data\\ERA5_full_demand_all_countries_2000_2019_hourly.parquet\n",
      "\n",
      "  0%|          | 0.00/45.6M [00:00<?, ?B/s]\n",
      "  3%|▎         | 1.57M/45.6M [00:00<00:03, 13.4MB/s]\n",
      "  9%|▉         | 4.19M/45.6M [00:00<00:02, 19.3MB/s]\n",
      " 14%|█▍        | 6.29M/45.6M [00:00<00:02, 14.3MB/s]\n",
      " 18%|█▊        | 8.39M/45.6M [00:00<00:02, 15.6MB/s]\n",
      " 24%|██▍       | 11.0M/45.6M [00:00<00:02, 14.2MB/s]\n",
      " 28%|██▊       | 12.6M/45.6M [00:00<00:02, 14.2MB/s]\n",
      " 33%|███▎      | 15.2M/45.6M [00:00<00:01, 17.2MB/s]\n",
      " 39%|███▉      | 17.8M/45.6M [00:01<00:01, 19.4MB/s]\n",
      " 44%|████▎     | 19.9M/45.6M [00:01<00:01, 15.3MB/s]\n",
      " 49%|████▉     | 22.5M/45.6M [00:01<00:01, 17.8MB/s]\n",
      " 55%|█████▌    | 25.2M/45.6M [00:01<00:01, 19.7MB/s]\n",
      " 61%|██████    | 27.8M/45.6M [00:01<00:01, 13.7MB/s]\n",
      " 66%|██████▌   | 29.9M/45.6M [00:01<00:01, 12.8MB/s]\n",
      " 69%|██████▉   | 31.5M/45.6M [00:02<00:01, 12.5MB/s]\n",
      " 75%|███████▍  | 34.1M/45.6M [00:02<00:00, 14.8MB/s]\n",
      " 79%|███████▉  | 36.2M/45.6M [00:02<00:00, 15.0MB/s]\n",
      " 84%|████████▍ | 38.3M/45.6M [00:02<00:00, 13.7MB/s]\n",
      " 91%|█████████ | 41.4M/45.6M [00:02<00:00, 16.6MB/s]\n",
      " 96%|█████████▌| 43.5M/45.6M [00:02<00:00, 16.7MB/s]\n",
      "100%|██████████| 45.6M/45.6M [00:02<00:00, 15.9MB/s]\n"
     ]
    }
   ],
   "source": [
    "!gdown 13ldCzdtStvJgNOFHaFzOR5udtEeFf0i4\n"
   ]
  },
  {
   "cell_type": "markdown",
   "metadata": {},
   "source": [
    "Filename: `ERA5_solar_power_capacity_factor_all_countries_2000_2019_hourly.parquet`\n",
    "\n",
    "Source: [University of Reading Research Data Archive](https://researchdata.reading.ac.uk/273/) (converted to Parquet)\n",
    "\n",
    "Size: ~37 MB"
   ]
  },
  {
   "cell_type": "code",
   "execution_count": 2,
   "metadata": {},
   "outputs": [
    {
     "name": "stderr",
     "output_type": "stream",
     "text": [
      "Downloading...\n",
      "From: https://drive.google.com/uc?id=1FSSLC6TjoniuYaYkT70_LTrJIm0575qt\n",
      "To: c:\\Users\\matte\\OneDrive\\local\\work\\energy-climate-cookbook\\data\\ERA5_solar_power_capacity_factor_all_countries_2000_2019_hourly.parquet\n",
      "\n",
      "  0%|          | 0.00/38.4M [00:00<?, ?B/s]\n",
      "  3%|▎         | 1.05M/38.4M [00:00<00:03, 9.41MB/s]\n",
      "  7%|▋         | 2.62M/38.4M [00:00<00:03, 11.5MB/s]\n",
      " 12%|█▏        | 4.72M/38.4M [00:00<00:02, 14.7MB/s]\n",
      " 18%|█▊        | 6.82M/38.4M [00:00<00:01, 17.0MB/s]\n",
      " 25%|██▍       | 9.44M/38.4M [00:00<00:01, 18.0MB/s]\n",
      " 30%|███       | 11.5M/38.4M [00:00<00:01, 18.3MB/s]\n",
      " 36%|███▌      | 13.6M/38.4M [00:00<00:01, 16.2MB/s]\n",
      " 41%|████      | 15.7M/38.4M [00:00<00:01, 17.0MB/s]\n",
      " 46%|████▋     | 17.8M/38.4M [00:01<00:01, 15.6MB/s]\n",
      " 53%|█████▎    | 20.4M/38.4M [00:01<00:01, 17.8MB/s]\n",
      " 60%|██████    | 23.1M/38.4M [00:01<00:00, 19.8MB/s]\n",
      " 67%|██████▋   | 25.7M/38.4M [00:01<00:00, 20.8MB/s]\n",
      " 74%|███████▎  | 28.3M/38.4M [00:01<00:00, 21.8MB/s]\n",
      " 81%|████████  | 30.9M/38.4M [00:01<00:00, 22.7MB/s]\n",
      " 87%|████████▋ | 33.6M/38.4M [00:01<00:00, 22.9MB/s]\n",
      " 94%|█████████▍| 36.2M/38.4M [00:01<00:00, 22.4MB/s]\n",
      "100%|██████████| 38.4M/38.4M [00:02<00:00, 19.2MB/s]\n"
     ]
    }
   ],
   "source": [
    "!gdown 1FSSLC6TjoniuYaYkT70_LTrJIm0575qt\n"
   ]
  },
  {
   "cell_type": "markdown",
   "metadata": {},
   "source": [
    "Filename: `ERA5_wind_power_capacity_factor_all_countries_2000_2019_inclusive.parquet`\n",
    "\n",
    "Source: [University of Reading Research Data Archive](https://researchdata.reading.ac.uk/273/) (converted to Parquet)\n",
    "\n",
    "Size: ~43 MB"
   ]
  },
  {
   "cell_type": "code",
   "execution_count": 3,
   "metadata": {},
   "outputs": [
    {
     "name": "stderr",
     "output_type": "stream",
     "text": [
      "Downloading...\n",
      "From: https://drive.google.com/uc?id=1FpsIuZOCV6Pnk5wbgWxVzm_t-BK_p7KU\n",
      "To: c:\\Users\\matte\\OneDrive\\local\\work\\energy-climate-cookbook\\data\\ERA5_wind_power_capacity_factor_all_countries_2000_2019_inclusive.parquet\n",
      "\n",
      "  0%|          | 0.00/44.0M [00:00<?, ?B/s]\n",
      "  2%|▏         | 1.05M/44.0M [00:00<00:04, 9.19MB/s]\n",
      "  7%|▋         | 3.15M/44.0M [00:00<00:02, 15.1MB/s]\n",
      " 12%|█▏        | 5.24M/44.0M [00:00<00:02, 17.0MB/s]\n",
      " 18%|█▊        | 7.86M/44.0M [00:00<00:01, 19.7MB/s]\n",
      " 23%|██▎       | 9.96M/44.0M [00:00<00:01, 18.7MB/s]\n",
      " 29%|██▊       | 12.6M/44.0M [00:00<00:01, 19.5MB/s]\n",
      " 35%|███▍      | 15.2M/44.0M [00:00<00:01, 20.7MB/s]\n",
      " 40%|████      | 17.8M/44.0M [00:00<00:01, 22.2MB/s]\n",
      " 46%|████▋     | 20.4M/44.0M [00:01<00:01, 22.4MB/s]\n",
      " 52%|█████▏    | 23.1M/44.0M [00:01<00:00, 23.3MB/s]\n",
      " 58%|█████▊    | 25.7M/44.0M [00:01<00:00, 23.1MB/s]\n",
      " 64%|██████▍   | 28.3M/44.0M [00:01<00:00, 22.8MB/s]\n",
      " 70%|███████   | 30.9M/44.0M [00:01<00:00, 23.5MB/s]\n",
      " 76%|███████▌  | 33.6M/44.0M [00:01<00:00, 23.4MB/s]\n",
      " 82%|████████▏ | 36.2M/44.0M [00:01<00:00, 24.0MB/s]\n",
      " 88%|████████▊ | 38.8M/44.0M [00:01<00:00, 23.7MB/s]\n",
      " 94%|█████████▍| 41.4M/44.0M [00:01<00:00, 24.3MB/s]\n",
      "100%|██████████| 44.0M/44.0M [00:01<00:00, 24.5MB/s]\n",
      "100%|██████████| 44.0M/44.0M [00:01<00:00, 22.1MB/s]\n"
     ]
    }
   ],
   "source": [
    "!gdown 1FpsIuZOCV6Pnk5wbgWxVzm_t-BK_p7KU"
   ]
  },
  {
   "cell_type": "markdown",
   "metadata": {},
   "source": [
    "Filename: `download.grib`\n",
    "\n",
    "Source: [Copernicus Climate Change Service ERA5](https://cds-beta.climate.copernicus.eu/datasets/reanalysis-era5-single-levels?tab=overview) \n",
    "\n",
    "Size: ~14 MB"
   ]
  },
  {
   "cell_type": "code",
   "execution_count": 1,
   "metadata": {},
   "outputs": [
    {
     "name": "stderr",
     "output_type": "stream",
     "text": [
      "Downloading...\n",
      "From: https://drive.google.com/uc?id=1IZA8w5m-MYcyPmLSSE8_y2BydvigQKnL\n",
      "To: c:\\Users\\matte\\OneDrive\\local\\work\\energy-climate-cookbook\\data\\download.grib\n",
      "\n",
      "  0%|          | 0.00/14.0M [00:00<?, ?B/s]\n",
      "  4%|▎         | 524k/14.0M [00:00<00:03, 3.82MB/s]\n",
      " 11%|█         | 1.57M/14.0M [00:00<00:01, 6.23MB/s]\n",
      " 22%|██▏       | 3.15M/14.0M [00:00<00:01, 8.74MB/s]\n",
      " 34%|███▎      | 4.72M/14.0M [00:00<00:00, 10.3MB/s]\n",
      " 45%|████▍     | 6.29M/14.0M [00:00<00:00, 9.57MB/s]\n",
      " 52%|█████▏    | 7.34M/14.0M [00:00<00:00, 7.60MB/s]\n",
      " 60%|█████▉    | 8.39M/14.0M [00:01<00:00, 7.04MB/s]\n",
      " 67%|██████▋   | 9.44M/14.0M [00:01<00:00, 5.45MB/s]\n",
      " 75%|███████▍  | 10.5M/14.0M [00:01<00:00, 5.84MB/s]\n",
      " 82%|████████▏ | 11.5M/14.0M [00:01<00:00, 6.68MB/s]\n",
      " 93%|█████████▎| 13.1M/14.0M [00:01<00:00, 7.87MB/s]\n",
      "100%|██████████| 14.0M/14.0M [00:01<00:00, 7.48MB/s]\n"
     ]
    }
   ],
   "source": [
    "# downloading the files from Goole Drive\n",
    "!gdown 1IZA8w5m-MYcyPmLSSE8_y2BydvigQKnL"
   ]
  },
  {
   "cell_type": "markdown",
   "metadata": {},
   "source": [
    "Filename: `ENTSOE-TP-wind-20200201-20200229.parquet`\n",
    "\n",
    "Source: [ENTSO-E Transparency Platform](https://transparency.entsoe.eu/)\n",
    "\n",
    "Size: 160 KB"
   ]
  },
  {
   "cell_type": "code",
   "execution_count": 2,
   "metadata": {},
   "outputs": [
    {
     "name": "stderr",
     "output_type": "stream",
     "text": [
      "Downloading...\n",
      "From: https://drive.google.com/uc?id=1opsm5QD6TSR9cICoYh9F8GlKi3umBQeM\n",
      "To: c:\\Users\\matte\\OneDrive\\local\\work\\energy-climate-cookbook\\data\\ENTSOE-TP-wind-20200201-20200229.parquet\n",
      "\n",
      "  0%|          | 0.00/160k [00:00<?, ?B/s]\n",
      "100%|██████████| 160k/160k [00:00<00:00, 2.24MB/s]\n"
     ]
    }
   ],
   "source": [
    "# downloading the files from Google Drive\n",
    "!gdown 1opsm5QD6TSR9cICoYh9F8GlKi3umBQeM"
   ]
  }
 ],
 "metadata": {
  "application/vnd.databricks.v1+notebook": {
   "dashboards": [],
   "environmentMetadata": null,
   "language": "python",
   "notebookMetadata": {
    "pythonIndentUnit": 4
   },
   "notebookName": "download",
   "widgets": {}
  },
  "kernelspec": {
   "display_name": "cookbook",
   "language": "python",
   "name": "python3"
  },
  "language_info": {
   "codemirror_mode": {
    "name": "ipython",
    "version": 3
   },
   "file_extension": ".py",
   "mimetype": "text/x-python",
   "name": "python",
   "nbconvert_exporter": "python",
   "pygments_lexer": "ipython3",
   "version": "3.11.9"
  }
 },
 "nbformat": 4,
 "nbformat_minor": 0
}
