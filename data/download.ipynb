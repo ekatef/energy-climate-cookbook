{
 "cells": [
  {
   "cell_type": "markdown",
   "metadata": {},
   "source": [
    "This notebook contains a link to all the data files used in this repository"
   ]
  },
  {
   "cell_type": "markdown",
   "metadata": {},
   "source": [
    "Filename: `era5-u100_v100_201903.grib`\n",
    "\n",
    "Source: [Copernicus Climate Data Store](https://cds-beta.climate.copernicus.eu/datasets/reanalysis-era5-single-levels?tab=overview)\n",
    "\n",
    "Size: ~37 MB"
   ]
  },
  {
   "cell_type": "code",
   "execution_count": 1,
   "metadata": {
    "application/vnd.databricks.v1+cell": {
     "cellMetadata": {
      "byteLimit": 2048000,
      "rowLimit": 10000
     },
     "inputWidgets": {},
     "nuid": "74204dcc-e8bb-495c-b147-a7233fc76331",
     "showTitle": false,
     "title": ""
    }
   },
   "outputs": [
    {
     "name": "stderr",
     "output_type": "stream",
     "text": [
      "Downloading...\n",
      "From: https://drive.google.com/uc?id=1r-BSm3vF-Ey0ss-uZESU06u152ewsrGR\n",
      "To: c:\\Users\\matte\\OneDrive\\local\\work\\energy-climate-cookbook\\data\\era5-u100_v100_201903.grib\n",
      "\n",
      "  0%|          | 0.00/37.5M [00:00<?, ?B/s]\n",
      "  4%|▍         | 1.57M/37.5M [00:00<00:02, 15.7MB/s]\n",
      " 11%|█         | 4.19M/37.5M [00:00<00:01, 21.6MB/s]\n",
      " 18%|█▊        | 6.82M/37.5M [00:00<00:01, 22.7MB/s]\n",
      " 25%|██▌       | 9.44M/37.5M [00:00<00:01, 24.0MB/s]\n",
      " 32%|███▏      | 12.1M/37.5M [00:00<00:01, 24.4MB/s]\n",
      " 39%|███▉      | 14.7M/37.5M [00:00<00:00, 23.4MB/s]\n",
      " 46%|████▌     | 17.3M/37.5M [00:00<00:00, 23.3MB/s]\n",
      " 53%|█████▎    | 19.9M/37.5M [00:00<00:00, 24.0MB/s]\n",
      " 60%|██████    | 22.5M/37.5M [00:00<00:00, 24.4MB/s]\n",
      " 67%|██████▋   | 25.2M/37.5M [00:01<00:00, 24.7MB/s]\n",
      " 76%|███████▌  | 28.3M/37.5M [00:01<00:00, 25.0MB/s]\n",
      " 82%|████████▏ | 30.9M/37.5M [00:01<00:00, 25.3MB/s]\n",
      " 89%|████████▉ | 33.6M/37.5M [00:01<00:00, 25.4MB/s]\n",
      " 96%|█████████▋| 36.2M/37.5M [00:01<00:00, 25.6MB/s]\n",
      "100%|██████████| 37.5M/37.5M [00:01<00:00, 24.4MB/s]\n"
     ]
    }
   ],
   "source": [
    "!gdown 1r-BSm3vF-Ey0ss-uZESU06u152ewsrGR\n"
   ]
  },
  {
   "cell_type": "markdown",
   "metadata": {},
   "source": [
    "Filename: `Vestas_v110_2000MW_ECEM_turbine.csv`\n",
    "\n",
    "Source: C3S ECEM / S2S4E project code / [UREAD_energy_models_demo_scripts](https://github.com/hcbloomfield19/UREAD_energy_models_demo_scripts)\n",
    "\n",
    "Size: 1 KB"
   ]
  },
  {
   "cell_type": "code",
   "execution_count": 2,
   "metadata": {},
   "outputs": [
    {
     "name": "stderr",
     "output_type": "stream",
     "text": [
      "Downloading...\n",
      "From: https://drive.google.com/uc?id=141lfuDUhAWVCodcXVrZrY7NJiDN4EL6I\n",
      "To: c:\\Users\\matte\\OneDrive\\local\\work\\energy-climate-cookbook\\data\\Vestas_v110_2000MW_ECEM_turbine.csv\n",
      "\n",
      "  0%|          | 0.00/917 [00:00<?, ?B/s]\n",
      "100%|██████████| 917/917 [00:00<?, ?B/s] \n"
     ]
    }
   ],
   "source": [
    "!gdown 141lfuDUhAWVCodcXVrZrY7NJiDN4EL6I\n"
   ]
  },
  {
   "cell_type": "markdown",
   "metadata": {},
   "source": [
    "Filename: `hgt_djf.nc`\n",
    "\n",
    "Source: [Github eofs](https://github.com/ajdawson/eofs/tree/main/lib/eofs/examples/example_data)\n",
    "\n",
    "Size: 727 KB"
   ]
  },
  {
   "cell_type": "code",
   "execution_count": 3,
   "metadata": {},
   "outputs": [
    {
     "name": "stderr",
     "output_type": "stream",
     "text": [
      "Downloading...\n",
      "From: https://drive.google.com/uc?id=16TwSsPuEFTmkaVKAh91x3IjZlyDTqC5I\n",
      "To: c:\\Users\\matte\\OneDrive\\local\\work\\energy-climate-cookbook\\data\\hgt_djf.nc\n",
      "\n",
      "  0%|          | 0.00/743k [00:00<?, ?B/s]\n",
      "100%|██████████| 743k/743k [00:00<00:00, 13.2MB/s]\n"
     ]
    }
   ],
   "source": [
    "!gdown 16TwSsPuEFTmkaVKAh91x3IjZlyDTqC5I"
   ]
  },
  {
   "cell_type": "markdown",
   "metadata": {},
   "source": [
    "Filename: `ERA5_full_demand_all_countries_2000_2019_hourly.parquet`\n",
    "\n",
    "Source: [University of Reading Research Data Archive](https://researchdata.reading.ac.uk/273/) (converted to Parquet)\n",
    "\n",
    "Size: ~44 MB"
   ]
  },
  {
   "cell_type": "code",
   "execution_count": 4,
   "metadata": {
    "application/vnd.databricks.v1+cell": {
     "cellMetadata": {},
     "inputWidgets": {},
     "nuid": "14a79117-cbe4-4cf1-900b-bdb23ce105c9",
     "showTitle": false,
     "title": ""
    }
   },
   "outputs": [
    {
     "name": "stderr",
     "output_type": "stream",
     "text": [
      "Downloading...\n",
      "From: https://drive.google.com/uc?id=13ldCzdtStvJgNOFHaFzOR5udtEeFf0i4\n",
      "To: c:\\Users\\matte\\OneDrive\\local\\work\\energy-climate-cookbook\\data\\ERA5_full_demand_all_countries_2000_2019_hourly.parquet\n",
      "\n",
      "  0%|          | 0.00/45.6M [00:00<?, ?B/s]\n",
      "  3%|▎         | 1.57M/45.6M [00:00<00:02, 15.2MB/s]\n",
      "  8%|▊         | 3.67M/45.6M [00:00<00:02, 17.0MB/s]\n",
      " 13%|█▎        | 5.77M/45.6M [00:00<00:02, 13.9MB/s]\n",
      " 20%|█▉        | 8.91M/45.6M [00:00<00:01, 18.7MB/s]\n",
      " 25%|██▌       | 11.5M/45.6M [00:00<00:01, 20.6MB/s]\n",
      " 31%|███       | 14.2M/45.6M [00:00<00:02, 13.4MB/s]\n",
      " 38%|███▊      | 17.3M/45.6M [00:01<00:01, 16.4MB/s]\n",
      " 45%|████▍     | 20.4M/45.6M [00:01<00:01, 18.7MB/s]\n",
      " 51%|█████     | 23.1M/45.6M [00:01<00:01, 13.9MB/s]\n",
      " 58%|█████▊    | 26.2M/45.6M [00:01<00:01, 16.7MB/s]\n",
      " 63%|██████▎   | 28.8M/45.6M [00:01<00:00, 18.5MB/s]\n",
      " 69%|██████▉   | 31.5M/45.6M [00:01<00:00, 15.2MB/s]\n",
      " 75%|███████▍  | 34.1M/45.6M [00:02<00:00, 17.2MB/s]\n",
      " 79%|███████▉  | 36.2M/45.6M [00:02<00:00, 16.1MB/s]\n",
      " 86%|████████▋ | 39.3M/45.6M [00:02<00:00, 18.4MB/s]\n",
      " 92%|█████████▏| 41.9M/45.6M [00:02<00:00, 20.1MB/s]\n",
      " 98%|█████████▊| 44.6M/45.6M [00:02<00:00, 20.2MB/s]\n",
      "100%|██████████| 45.6M/45.6M [00:02<00:00, 17.5MB/s]\n"
     ]
    }
   ],
   "source": [
    "!gdown 13ldCzdtStvJgNOFHaFzOR5udtEeFf0i4\n"
   ]
  },
  {
   "cell_type": "markdown",
   "metadata": {},
   "source": [
    "Filename: `ERA5_solar_power_capacity_factor_all_countries_2000_2019_hourly.parquet`\n",
    "\n",
    "Source: [University of Reading Research Data Archive](https://researchdata.reading.ac.uk/273/) (converted to Parquet)\n",
    "\n",
    "Size: ~37 MB"
   ]
  },
  {
   "cell_type": "code",
   "execution_count": 5,
   "metadata": {},
   "outputs": [
    {
     "name": "stderr",
     "output_type": "stream",
     "text": [
      "Downloading...\n",
      "From: https://drive.google.com/uc?id=1FSSLC6TjoniuYaYkT70_LTrJIm0575qt\n",
      "To: c:\\Users\\matte\\OneDrive\\local\\work\\energy-climate-cookbook\\data\\ERA5_solar_power_capacity_factor_all_countries_2000_2019_hourly.parquet\n",
      "\n",
      "  0%|          | 0.00/38.4M [00:00<?, ?B/s]\n",
      "  5%|▌         | 2.10M/38.4M [00:00<00:01, 18.4MB/s]\n",
      " 12%|█▏        | 4.72M/38.4M [00:00<00:01, 21.9MB/s]\n",
      " 19%|█▉        | 7.34M/38.4M [00:00<00:01, 22.6MB/s]\n",
      " 26%|██▌       | 9.96M/38.4M [00:00<00:01, 21.0MB/s]\n",
      " 33%|███▎      | 12.6M/38.4M [00:00<00:01, 22.5MB/s]\n",
      " 41%|████      | 15.7M/38.4M [00:00<00:00, 23.8MB/s]\n",
      " 48%|████▊     | 18.4M/38.4M [00:00<00:00, 24.2MB/s]\n",
      " 55%|█████▍    | 21.0M/38.4M [00:00<00:00, 24.7MB/s]\n",
      " 61%|██████▏   | 23.6M/38.4M [00:01<00:00, 24.9MB/s]\n",
      " 68%|██████▊   | 26.2M/38.4M [00:01<00:00, 24.0MB/s]\n",
      " 76%|███████▋  | 29.4M/38.4M [00:01<00:00, 24.3MB/s]\n",
      " 83%|████████▎ | 32.0M/38.4M [00:01<00:00, 23.6MB/s]\n",
      " 91%|█████████▏| 35.1M/38.4M [00:01<00:00, 24.4MB/s]\n",
      " 98%|█████████▊| 37.7M/38.4M [00:01<00:00, 24.5MB/s]\n",
      "100%|██████████| 38.4M/38.4M [00:01<00:00, 23.8MB/s]\n",
      "Downloading...\n",
      "From: https://drive.google.com/uc?id=1FpsIuZOCV6Pnk5wbgWxVzm_t-BK_p7KU\n",
      "To: c:\\Users\\matte\\OneDrive\\local\\work\\energy-climate-cookbook\\data\\ERA5_wind_power_capacity_factor_all_countries_2000_2019_inclusive.parquet\n",
      "\n",
      "  0%|          | 0.00/44.0M [00:00<?, ?B/s]\n",
      "  4%|▎         | 1.57M/44.0M [00:00<00:03, 13.8MB/s]\n",
      " 10%|▉         | 4.19M/44.0M [00:00<00:02, 19.6MB/s]\n",
      " 17%|█▋        | 7.34M/44.0M [00:00<00:01, 21.3MB/s]\n",
      " 24%|██▍       | 10.5M/44.0M [00:00<00:01, 23.7MB/s]\n",
      " 30%|██▉       | 13.1M/44.0M [00:00<00:01, 23.2MB/s]\n",
      " 37%|███▋      | 16.3M/44.0M [00:00<00:01, 24.0MB/s]\n",
      " 43%|████▎     | 18.9M/44.0M [00:00<00:01, 24.6MB/s]\n",
      " 49%|████▉     | 21.5M/44.0M [00:00<00:00, 24.8MB/s]\n",
      " 55%|█████▍    | 24.1M/44.0M [00:01<00:00, 25.1MB/s]\n",
      " 61%|██████    | 26.7M/44.0M [00:01<00:00, 25.2MB/s]\n",
      " 67%|██████▋   | 29.4M/44.0M [00:01<00:00, 23.7MB/s]\n",
      " 73%|███████▎  | 32.0M/44.0M [00:01<00:00, 24.0MB/s]\n",
      " 80%|███████▉  | 35.1M/44.0M [00:01<00:00, 24.5MB/s]\n",
      " 87%|████████▋ | 38.3M/44.0M [00:01<00:00, 24.8MB/s]\n",
      " 94%|█████████▍| 41.4M/44.0M [00:01<00:00, 25.2MB/s]\n",
      "100%|██████████| 44.0M/44.0M [00:01<00:00, 25.3MB/s]\n",
      "100%|██████████| 44.0M/44.0M [00:01<00:00, 24.1MB/s]\n"
     ]
    }
   ],
   "source": [
    "!gdown 1FSSLC6TjoniuYaYkT70_LTrJIm0575qt\n"
   ]
  },
  {
   "cell_type": "markdown",
   "metadata": {},
   "source": [
    "Filename: `ERA5_wind_power_capacity_factor_all_countries_2000_2019_inclusive.parquet`\n",
    "\n",
    "Source: [University of Reading Research Data Archive](https://researchdata.reading.ac.uk/273/) (converted to Parquet)\n",
    "\n",
    "Size: ~43 MB"
   ]
  },
  {
   "cell_type": "code",
   "execution_count": null,
   "metadata": {},
   "outputs": [],
   "source": [
    "!gdown 1FpsIuZOCV6Pnk5wbgWxVzm_t-BK_p7KU"
   ]
  }
 ],
 "metadata": {
  "application/vnd.databricks.v1+notebook": {
   "dashboards": [],
   "environmentMetadata": null,
   "language": "python",
   "notebookMetadata": {
    "pythonIndentUnit": 4
   },
   "notebookName": "download",
   "widgets": {}
  },
  "kernelspec": {
   "display_name": "cookbook",
   "language": "python",
   "name": "python3"
  },
  "language_info": {
   "codemirror_mode": {
    "name": "ipython",
    "version": 3
   },
   "file_extension": ".py",
   "mimetype": "text/x-python",
   "name": "python",
   "nbconvert_exporter": "python",
   "pygments_lexer": "ipython3",
   "version": "3.11.9"
  }
 },
 "nbformat": 4,
 "nbformat_minor": 0
}
