{
 "cells": [
  {
   "cell_type": "code",
   "execution_count": null,
   "metadata": {
    "application/vnd.databricks.v1+cell": {
     "cellMetadata": {
      "byteLimit": 2048000,
      "rowLimit": 10000
     },
     "inputWidgets": {},
     "nuid": "887c3ce5-e307-468b-b149-124255548b81",
     "showTitle": false,
     "title": ""
    }
   },
   "outputs": [],
   "source": [
    "!pip install gdown"
   ]
  },
  {
   "cell_type": "code",
   "execution_count": null,
   "metadata": {
    "application/vnd.databricks.v1+cell": {
     "cellMetadata": {
      "byteLimit": 2048000,
      "rowLimit": 10000
     },
     "inputWidgets": {},
     "nuid": "74204dcc-e8bb-495c-b147-a7233fc76331",
     "showTitle": false,
     "title": ""
    }
   },
   "outputs": [],
   "source": [
    "# downloading the file `era5-u100_v100_201903.grib` from Goole Drive\n",
    "# if you are running this notebook locally, please install gdown with `pip install gdown`\n",
    "!gdown 1r-BSm3vF-Ey0ss-uZESU06u152ewsrGR\n",
    "# Downloading Vestas_v110_2000MW_ECEM_turbine.csv\n",
    "!gdown 141lfuDUhAWVCodcXVrZrY7NJiDN4EL6I\n"
   ]
  },
  {
   "cell_type": "code",
   "execution_count": 1,
   "metadata": {},
   "outputs": [
    {
     "name": "stderr",
     "output_type": "stream",
     "text": [
      "Downloading...\n",
      "From: https://drive.google.com/uc?id=16TwSsPuEFTmkaVKAh91x3IjZlyDTqC5I\n",
      "To: c:\\Users\\matte\\OneDrive\\local\\work\\energy-climate-cookbook\\data\\hgt_djf.nc\n",
      "\n",
      "  0%|          | 0.00/743k [00:00<?, ?B/s]\n",
      "100%|██████████| 743k/743k [00:00<00:00, 10.9MB/s]\n"
     ]
    }
   ],
   "source": [
    "# hgt_djf.nc\n",
    "!gdown 16TwSsPuEFTmkaVKAh91x3IjZlyDTqC5I"
   ]
  },
  {
   "cell_type": "code",
   "execution_count": null,
   "metadata": {
    "application/vnd.databricks.v1+cell": {
     "cellMetadata": {},
     "inputWidgets": {},
     "nuid": "14a79117-cbe4-4cf1-900b-bdb23ce105c9",
     "showTitle": false,
     "title": ""
    }
   },
   "outputs": [],
   "source": [
    "# downloading wind solar demand (E.001)\n",
    "!gdown 13ldCzdtStvJgNOFHaFzOR5udtEeFf0i4\n",
    "!gdown 1FSSLC6TjoniuYaYkT70_LTrJIm0575qt\n",
    "!gdown 1FpsIuZOCV6Pnk5wbgWxVzm_t-BK_p7KU"
   ]
  }
 ],
 "metadata": {
  "application/vnd.databricks.v1+notebook": {
   "dashboards": [],
   "environmentMetadata": null,
   "language": "python",
   "notebookMetadata": {
    "pythonIndentUnit": 4
   },
   "notebookName": "download",
   "widgets": {}
  },
  "kernelspec": {
   "display_name": "cookbook",
   "language": "python",
   "name": "python3"
  },
  "language_info": {
   "codemirror_mode": {
    "name": "ipython",
    "version": 3
   },
   "file_extension": ".py",
   "mimetype": "text/x-python",
   "name": "python",
   "nbconvert_exporter": "python",
   "pygments_lexer": "ipython3",
   "version": "3.11.9"
  }
 },
 "nbformat": 4,
 "nbformat_minor": 0
}
