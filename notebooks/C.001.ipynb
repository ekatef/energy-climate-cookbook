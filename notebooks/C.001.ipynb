{
 "cells": [
  {
   "cell_type": "markdown",
   "metadata": {},
   "source": [
    "### Modules used in this notebook\n",
    "`xarray`, `cfgrib`, `matplotlib`"
   ]
  },
  {
   "cell_type": "markdown",
   "metadata": {
    "application/vnd.databricks.v1+cell": {
     "cellMetadata": {},
     "inputWidgets": {},
     "nuid": "962e3e3b-be36-4b59-a0ba-e9c38628d162",
     "showTitle": false,
     "title": ""
    },
    "id": "tnjBwjHHwxfo"
   },
   "source": [
    "# Climate: C.001 - Loading climate data and subsetting"
   ]
  },
  {
   "cell_type": "markdown",
   "metadata": {
    "application/vnd.databricks.v1+cell": {
     "cellMetadata": {},
     "inputWidgets": {},
     "nuid": "9030adba-401b-49df-8dc9-fe835b875adb",
     "showTitle": false,
     "title": ""
    },
    "id": "85S-n7Q2U_Zy"
   },
   "source": [
    "Weather and climate data is large and can have many dimensions, for example climate model data would generally have dimensions [time , latitude , longitude]. For this reason filetypes like `.csv` and `.dat` are not suitable, and some different formats are used. The most common of these are `.netcdf` and `.grib`\n",
    "\n",
    "To read these files you will need some particular python libraries. There are multiple options (e.g. 'xarray', 'cfpython') but for this example `cfgrib` and `eccodes` are needed to read GRIB files.\n",
    "\n",
    "> Q1: What is the GRIB format? https://en.wikipedia.org/wiki/GRIB\n",
    "\n",
    "After reading this you should be happy with how the file type differs from the type of data files you could load into software like Excel."
   ]
  },
  {
   "cell_type": "markdown",
   "metadata": {
    "application/vnd.databricks.v1+cell": {
     "cellMetadata": {},
     "inputWidgets": {},
     "nuid": "33551fd3-2f1e-4483-a774-7998ea93cc8a",
     "showTitle": false,
     "title": ""
    },
    "id": "hEy6wr_wAOcS"
   },
   "source": [
    "For the purposes of this example the data that we are using has been downloaded from the climate data store in advance: https://cds.climate.copernicus.eu/#!/home\n",
    "\n",
    "We will be using data from the ERA5 reanalysis today. For information on what a reanalysis is in broad terms see this page: https://climate.copernicus.eu/climate-reanalysis.\n",
    "\n",
    "Take this opportunity to look through the extra documentation we provided for more information on reanalysis and other types of weather and climate data: https://research.reading.ac.uk/met-energy/wp-content/uploads/sites/53/2021/09/energymet_education_videos_links_checked.pdf\n",
    "\n",
    "Please explore the climate data store website in your free time. There are good examples of how to download the data to your machine of choice using the 'cdsapi'.\n"
   ]
  },
  {
   "cell_type": "markdown",
   "metadata": {
    "application/vnd.databricks.v1+cell": {
     "cellMetadata": {},
     "inputWidgets": {},
     "nuid": "42f5122b-29c1-4657-955f-b7542c9402c5",
     "showTitle": false,
     "title": ""
    },
    "id": "kyNdkv4ixJAe"
   },
   "source": [
    "# Opening the file with xarray\n",
    "\n",
    "xarray is a powerful open-source library designed to access and manipulate multi-dimensional data. With the cfgrib engine, developed by ECMWF, we can access GRIB data using the ecCodes library that was previously downloaded..\n",
    "\n",
    "> Q2: what is the structure of a xarray dataset? https://docs.xarray.dev/en/stable/user-guide/data-structures.html#dataset\n",
    "\n",
    "Run the code below to import the xarray library and open the dataset. The file naming convention here tells us some information (e.g. that the data is from era5 and probably from March 2019) but all this information can be checked once the data is opened.\n"
   ]
  },
  {
   "cell_type": "code",
   "execution_count": null,
   "metadata": {
    "application/vnd.databricks.v1+cell": {
     "cellMetadata": {
      "byteLimit": 2048000,
      "rowLimit": 10000
     },
     "inputWidgets": {},
     "nuid": "944d7614-2815-4d2b-9d37-e4cd72b53701",
     "showTitle": false,
     "title": ""
    },
    "colab": {
     "base_uri": "https://localhost:8080/",
     "height": 524
    },
    "id": "u2xcAmZoxKbZ",
    "outputId": "ee2e378f-6f5f-4ddb-cd93-b8a626f165ec"
   },
   "outputs": [],
   "source": [
    "import xarray as xr\n",
    "d = xr.open_dataset('../data/era5-u100_v100_201903.grib')\n",
    "d"
   ]
  },
  {
   "cell_type": "markdown",
   "metadata": {
    "application/vnd.databricks.v1+cell": {
     "cellMetadata": {},
     "inputWidgets": {},
     "nuid": "dcb6312b-3c3a-4684-b4e6-1725c63a7a64",
     "showTitle": false,
     "title": ""
    },
    "id": "j59Db41XcZwQ"
   },
   "source": [
    "## Basic plotting\n",
    "\n",
    "Working with these large climate datasets can be much easier if you have some skills to visualise the data. Above we see the data has three dimensions: time, latitude and longitude. So we may want to:\n",
    "- plot timeseries at given points.\n",
    "- plot latitude-longitude slices of data at a given time point (or averaged over many time points).  \n",
    "\n",
    "\n",
    "> Q3: What are the basic plotting features provided by xarray? https://docs.xarray.dev/en/stable/user-guide/plotting.html\n",
    "\n",
    "Take a few minutes to explore this and the examples within. There are many types of visualisations that are possible.\n",
    "\n",
    "Run the line of code below to make a simple map of the first day of the data. Note that using the inbuild xarray functions mean that you don't have to write lines of code to define the colourbars etc.\n",
    "\n",
    "These maps are made using the pcolormesh function from matplotlib. See this link for more examples: https://matplotlib.org/3.1.1/api/_as_gen/matplotlib.pyplot.pcolormesh.html\n",
    "\n",
    "\n"
   ]
  },
  {
   "cell_type": "code",
   "execution_count": null,
   "metadata": {
    "application/vnd.databricks.v1+cell": {
     "cellMetadata": {
      "byteLimit": 2048000,
      "rowLimit": 10000
     },
     "inputWidgets": {},
     "nuid": "1899523a-10f2-48c7-96ba-2049bd4fdf93",
     "showTitle": false,
     "title": ""
    },
    "colab": {
     "base_uri": "https://localhost:8080/",
     "height": 262
    },
    "id": "LpTY7b3aBiH7",
    "outputId": "5de58f29-ac54-449b-af8c-b8287da979e8"
   },
   "outputs": [],
   "source": [
    "import matplotlib.pyplot as plt\n",
    "\n",
    "(d['u100']\n",
    ".sel(time='2019-03-01')\n",
    ".plot(\n",
    "    x=\"longitude\", \n",
    "    y=\"latitude\", \n",
    "    col=\"time\", \n",
    "    col_wrap = 4,\n",
    "    cmap=plt.cm.viridis)\n",
    ")"
   ]
  },
  {
   "cell_type": "markdown",
   "metadata": {
    "application/vnd.databricks.v1+cell": {
     "cellMetadata": {},
     "inputWidgets": {},
     "nuid": "76c549bf-1e92-4269-9ddd-f85a3e5229cb",
     "showTitle": false,
     "title": ""
    },
    "id": "exrH5kX4BnZD"
   },
   "source": [
    "You may wish to visualise many time slices at once, this can be done by selecting multiple time slices and specifying the number of columns.\n",
    "\n",
    "Run the lines of code below then experiment with changing the parameters to produce different plots."
   ]
  },
  {
   "cell_type": "code",
   "execution_count": null,
   "metadata": {
    "application/vnd.databricks.v1+cell": {
     "cellMetadata": {
      "byteLimit": 2048000,
      "rowLimit": 10000
     },
     "inputWidgets": {},
     "nuid": "aac9ba10-b76e-4951-8d2a-b32afe0507a6",
     "showTitle": false,
     "title": ""
    },
    "colab": {
     "base_uri": "https://localhost:8080/",
     "height": 458
    },
    "id": "osWc7msSxQWB",
    "outputId": "fbe4e98e-39bd-4de3-8d6d-8870f52949e5"
   },
   "outputs": [],
   "source": [
    "import matplotlib.pyplot as plt\n",
    "(\n",
    "    d['u100']\n",
    "    .isel(time=slice(0,48, 8))\n",
    "    .plot(\n",
    "        x=\"longitude\", \n",
    "        y=\"latitude\", \n",
    "        col=\"time\", \n",
    "        col_wrap=3, cmap=plt.cm.PiYG)\n",
    ")"
   ]
  },
  {
   "cell_type": "markdown",
   "metadata": {
    "application/vnd.databricks.v1+cell": {
     "cellMetadata": {},
     "inputWidgets": {},
     "nuid": "9d3329b4-0147-444a-99bf-f311a5c151c4",
     "showTitle": false,
     "title": ""
    },
    "id": "JUiZX_WVDkzb"
   },
   "source": [
    "Have a look through the xarray visualisation gallery for other types of plots you could create with this data: https://docs.xarray.dev/en/stable/examples/visualization_gallery.html"
   ]
  },
  {
   "cell_type": "markdown",
   "metadata": {
    "application/vnd.databricks.v1+cell": {
     "cellMetadata": {},
     "inputWidgets": {},
     "nuid": "eeeaeca2-8522-4faf-98da-f8506d1f7023",
     "showTitle": false,
     "title": ""
    },
    "id": "56-XNb8bccuv"
   },
   "source": [
    "## Subsetting the data in time\n",
    "\n",
    "There are many ways you may wish to subset a dataset and xarray provides some handy inbuilt features to do this.\n",
    "The documentation for this function is here: https://docs.xarray.dev/en/stable/generated/xarray.DataArray.sel.html\n",
    "\n",
    "> Q4: Can you add in an extra block of code that extracts all of the data on the 14th March from 8pm to midnight?\n",
    "\n",
    "> Q5: Can you then make a map to visualise your subset?\n"
   ]
  },
  {
   "cell_type": "code",
   "execution_count": null,
   "metadata": {
    "application/vnd.databricks.v1+cell": {
     "cellMetadata": {
      "byteLimit": 2048000,
      "rowLimit": 10000
     },
     "inputWidgets": {},
     "nuid": "a9497af9-d964-4a87-9477-3eac718064c5",
     "showTitle": false,
     "title": ""
    },
    "colab": {
     "base_uri": "https://localhost:8080/",
     "height": 506
    },
    "id": "kXjSfNNOcdeo",
    "outputId": "5981508a-3750-40d2-d47c-e5c46c911a61"
   },
   "outputs": [],
   "source": [
    "# single day\n",
    "d.sel(time = '2019-03-12')\n",
    "# days period\n",
    "d.sel(time = slice('2019-03-12', '2019-03-15'))\n",
    "# only the hours between 10 and 14\n",
    "d.sel(time=(d.time.dt.hour >= 10) & (d.time.dt.hour <= 14))\n",
    "d.sel(latitude=slice(60, 30))"
   ]
  },
  {
   "cell_type": "markdown",
   "metadata": {
    "application/vnd.databricks.v1+cell": {
     "cellMetadata": {},
     "inputWidgets": {},
     "nuid": "e7e774a2-fc32-40e1-811e-6cbaa515ab56",
     "showTitle": false,
     "title": ""
    },
    "id": "xy9WMivxCxp0"
   },
   "source": [
    "# Subsetting data in space\n",
    "\n",
    "Similar instructions can be given to those described above to subset the dat ain space using the 'sel' function.\n",
    "\n",
    "\n",
    "> Q6: Can you print out the latitudes and longitudes of the dataset above?\n",
    "\n",
    "> Q7: Can you select a point in space and subset the timeseries from this point?\n",
    "\n",
    "> Q8: Can you plot the timeseries using the .plot() function?\n"
   ]
  }
 ],
 "metadata": {
  "application/vnd.databricks.v1+notebook": {
   "dashboards": [],
   "environmentMetadata": null,
   "language": "python",
   "notebookMetadata": {
    "pythonIndentUnit": 4
   },
   "notebookName": "C.001",
   "widgets": {}
  },
  "colab": {
   "provenance": []
  },
  "kernelspec": {
   "display_name": "Python 3",
   "name": "python3"
  },
  "language_info": {
   "codemirror_mode": {
    "name": "ipython",
    "version": 3
   },
   "file_extension": ".py",
   "mimetype": "text/x-python",
   "name": "python",
   "nbconvert_exporter": "python",
   "pygments_lexer": "ipython3",
   "version": "3.11.9"
  }
 },
 "nbformat": 4,
 "nbformat_minor": 0
}
