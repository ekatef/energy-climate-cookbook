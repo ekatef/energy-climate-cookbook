{
 "cells": [
  {
   "cell_type": "markdown",
   "metadata": {},
   "source": [
    "### Modules used in this notebook\n",
    "xarray, cfgrib, matplotlib"
   ]
  },
  {
   "cell_type": "markdown",
   "metadata": {
    "application/vnd.databricks.v1+cell": {
     "cellMetadata": {},
     "inputWidgets": {},
     "nuid": "f2abc017-448f-45d6-9693-210d088258a2",
     "showTitle": false,
     "title": ""
    },
    "id": "tnjBwjHHwxfo"
   },
   "source": [
    "# Climate: C.02 - Extracting and averaging"
   ]
  },
  {
   "cell_type": "markdown",
   "metadata": {
    "application/vnd.databricks.v1+cell": {
     "cellMetadata": {},
     "inputWidgets": {},
     "nuid": "b20d0a62-dabc-417c-9cb8-6c48d89d7a21",
     "showTitle": false,
     "title": ""
    },
    "id": "85S-n7Q2U_Zy"
   },
   "source": [
    "Weather and climate data is large and can have many dimenstions, for example climate model data would generally have dimensions [time , latitude , longitude]. For this reason filetypes like .csv .dat are not suitable, and some different formats are used. The most common of these are .pp .netcdf and .grib\n",
    "\n",
    "To read these files you will need some particular python libraries. There are multiple options (e.g. 'xarray', 'cfpython') but for this example `cfgrib` and `eccodes` are needed to read GRIB files.\n",
    "\n",
    "> Q1: What is the GRIB format? https://en.wikipedia.org/wiki/GRIB\n",
    "\n",
    "After reading this you should be happy with how the file type differs from the type of data files you could load into software like Excel."
   ]
  },
  {
   "cell_type": "markdown",
   "metadata": {
    "application/vnd.databricks.v1+cell": {
     "cellMetadata": {},
     "inputWidgets": {},
     "nuid": "85663602-1e91-44b2-b34b-500af0b67a9c",
     "showTitle": false,
     "title": ""
    },
    "id": "lw_Zlx7jtvru"
   },
   "source": [
    "Once the libraries are installed you will then need to load in some data.\n",
    "For the prusposes of this example the data that we are using has been downloaded from the climate data store in advance: https://cds.climate.copernicus.eu/#!/home\n",
    "\n",
    "We will be using data from the ERA5 reanalysis today. For information on what a reanalysis is in broad terms see this page: https://climate.copernicus.eu/climate-reanalysis.\n",
    "\n",
    "Take this opportunity to look through the extra documentation we provided for more information on reanalysis and other types of weather and climate data: https://research.reading.ac.uk/met-energy/wp-content/uploads/sites/53/2021/09/energymet_education_videos_links_checked.pdf\n",
    "\n",
    "If there is a particular type of data you are interested in please ask the helpers in the session.\n",
    "\n",
    "Please explore the climate data store website in your free time. There are good examples of how to download the data to your machine of choice using the 'cdsapi'."
   ]
  },
  {
   "cell_type": "markdown",
   "metadata": {
    "application/vnd.databricks.v1+cell": {
     "cellMetadata": {},
     "inputWidgets": {},
     "nuid": "c78aadf8-513c-4ed3-8bfa-c5bcb6d74190",
     "showTitle": false,
     "title": ""
    },
    "id": "kyNdkv4ixJAe"
   },
   "source": [
    "# Opening the file with xarray\n",
    "`xarray` is a powerful open-source library designed to access and manipulate multi-dimensional data. With the `cfgrib` engine, [developed by ECMWF](https://github.com/ecmwf/cfgrib), we can access GRIB data using the `ecCodes` library that was previously downloaded..\n",
    "\n",
    "> Q2: what is the structure of a `xarray` dataset? https://docs.xarray.dev/en/stable/user-guide/data-structures.html#dataset\n",
    "\n",
    "\n",
    "Run the code below to import the xarray librariy and open the dataset.\n",
    "The file naming convention here tells us some information (e.g. that the data is from era5 and probably from March 2019) but all this information can be checked once the data is opened.\n"
   ]
  },
  {
   "cell_type": "code",
   "execution_count": null,
   "metadata": {
    "application/vnd.databricks.v1+cell": {
     "cellMetadata": {
      "byteLimit": 2048000,
      "rowLimit": 10000
     },
     "inputWidgets": {},
     "nuid": "f1bbe840-2345-4260-93f0-396315bb8942",
     "showTitle": false,
     "title": ""
    },
    "colab": {
     "base_uri": "https://localhost:8080/",
     "height": 524
    },
    "id": "u2xcAmZoxKbZ",
    "outputId": "a6940301-b93e-40f1-8e94-896732e6e0e0"
   },
   "outputs": [],
   "source": [
    "import xarray as xr\n",
    "d = xr.open_dataset('../data/era5-u100_v100_201903.grib')\n",
    "d"
   ]
  },
  {
   "cell_type": "markdown",
   "metadata": {
    "application/vnd.databricks.v1+cell": {
     "cellMetadata": {},
     "inputWidgets": {},
     "nuid": "f4d65380-8eee-411c-aca2-133418d4396d",
     "showTitle": false,
     "title": ""
    },
    "id": "j59Db41XcZwQ"
   },
   "source": [
    "## Calculating wind speed\n",
    "`u100` and `v100` are respectively the west-east (known as the zonal component) and the south-north (known as meridional) components.\n",
    "\n",
    "The wind speed can be calculated is the magnitude of the vector, calculated using the Pythagorean theorem\n",
    "<!-- <div style=\"max-width:400px;margin-left: auto; margin-right: 0;\">\n",
    "\n",
    "![windspeed-diagram.png](https://disc.gsfc.nasa.gov/media/image/07af14c37a0a44e482feea5975e1731f/windspeed-diagram.png)\n",
    "\n",
    "</div> -->\n",
    "\n",
    "<div>\n",
    "<img src=\"https://disc.gsfc.nasa.gov/media/image/07af14c37a0a44e482feea5975e1731f/windspeed-diagram.png\" width=\"500\"/>\n",
    "</div>\n",
    "\n",
    "Run the line of code below for an example of how to do this using xarray, and then to reprint the open dataset to see the new field within it."
   ]
  },
  {
   "cell_type": "code",
   "execution_count": null,
   "metadata": {
    "application/vnd.databricks.v1+cell": {
     "cellMetadata": {},
     "inputWidgets": {},
     "nuid": "79fafbc1-dae0-498a-9076-49f2a5ddb8e5",
     "showTitle": false,
     "title": ""
    },
    "colab": {
     "base_uri": "https://localhost:8080/",
     "height": 527
    },
    "id": "eJZeHUrQyLTh",
    "outputId": "8b0b7d8c-bcd6-40f3-cfa8-3dc235506f5d"
   },
   "outputs": [],
   "source": [
    "d['ws100'] = (d['u100']**2 + d['v100']**2)**(1/2)\n",
    "d\n"
   ]
  },
  {
   "cell_type": "markdown",
   "metadata": {
    "application/vnd.databricks.v1+cell": {
     "cellMetadata": {},
     "inputWidgets": {},
     "nuid": "64d78196-aa90-4944-8c17-d3f2522b3750",
     "showTitle": false,
     "title": ""
    },
    "id": "ONKbTe8aK1MB"
   },
   "source": [
    "> Q3 Can you adapt the code above to also make ' 100m wind speed cubed'  as a variable in the file?"
   ]
  },
  {
   "cell_type": "markdown",
   "metadata": {
    "application/vnd.databricks.v1+cell": {
     "cellMetadata": {},
     "inputWidgets": {},
     "nuid": "53410a6a-c98e-4e6a-b60d-890d10a7e0ab",
     "showTitle": false,
     "title": ""
    },
    "id": "56-XNb8bccuv"
   },
   "source": [
    "## Extracting a time-series from a location of interest\n",
    "\n",
    "We may want to calculate timeseries of wind or solar power at a particular location. To do this we need some knowledge of the area covered within the data file (see above).\n",
    "\n",
    "Run the following lines of code for examples of how to extract a time-series of data by selecting the nearest grid point to a location of interest, and plotting this out.\n",
    "\n",
    "Note we are using our new 100m wind speed field created in the previous example.\n",
    "\n",
    "\n",
    "> Q4: Can you adapt the above code to extact some data from an operational wind farm location?"
   ]
  },
  {
   "cell_type": "code",
   "execution_count": null,
   "metadata": {
    "application/vnd.databricks.v1+cell": {
     "cellMetadata": {},
     "inputWidgets": {},
     "nuid": "67e089d8-3f50-47fb-8075-b92e7bd48cfa",
     "showTitle": false,
     "title": ""
    },
    "colab": {
     "base_uri": "https://localhost:8080/",
     "height": 722
    },
    "id": "kXjSfNNOcdeo",
    "outputId": "5a780d09-af07-4a4b-f105-82e3df097456"
   },
   "outputs": [],
   "source": [
    "sel_lat = 56.84\n",
    "sel_lon = 23.88\n",
    "\n",
    "single_nearest = d.sel(latitude = sel_lat, longitude = sel_lon, method = 'nearest')\n",
    "print(single_nearest)\n",
    "single_nearest['ws100'].plot()\n",
    "\n",
    "\n"
   ]
  },
  {
   "cell_type": "markdown",
   "metadata": {
    "application/vnd.databricks.v1+cell": {
     "cellMetadata": {},
     "inputWidgets": {},
     "nuid": "fdee2660-536b-4bb6-b247-da10d3f3723a",
     "showTitle": false,
     "title": ""
    },
    "id": "QqlLPb-F1jFR"
   },
   "source": [
    "## Box average\n",
    "\n",
    "Another task we may wish to do is extract some data averaged over a region (this may be of interest if you want to create an average energy demand over the region from temperature data).\n",
    "\n",
    "Run the code example below to see how you can use xarrays 'slice' function to subset the data and then take the mean over the area.\n",
    "\n",
    "\n",
    "> Q5: Can you adapt this code to find the maximum wind speed over the box?"
   ]
  },
  {
   "cell_type": "code",
   "execution_count": null,
   "metadata": {
    "application/vnd.databricks.v1+cell": {
     "cellMetadata": {},
     "inputWidgets": {},
     "nuid": "acf0b639-a66e-4a69-b6fe-74c7d4691cea",
     "showTitle": false,
     "title": ""
    },
    "colab": {
     "base_uri": "https://localhost:8080/",
     "height": 340
    },
    "id": "ScqAFhnAy_GK",
    "outputId": "67044063-7be1-4544-b4db-77f463ea70aa"
   },
   "outputs": [],
   "source": [
    "min_lat = 37.8\n",
    "max_lat = 43\n",
    "min_lon = -8\n",
    "max_lon = -1.8\n",
    "\n",
    "box_average = d.sel(\n",
    "    latitude = slice(max_lat, min_lat), \n",
    "    longitude = slice(min_lon, max_lon)).mean(dim = ['latitude', 'longitude'])\n",
    "box_average['ws100'].plot()"
   ]
  }
 ],
 "metadata": {
  "application/vnd.databricks.v1+notebook": {
   "dashboards": [],
   "environmentMetadata": null,
   "language": "python",
   "notebookMetadata": {
    "pythonIndentUnit": 4
   },
   "notebookName": "C.002",
   "widgets": {}
  },
  "colab": {
   "provenance": []
  },
  "kernelspec": {
   "display_name": "Python 3",
   "name": "python3"
  },
  "language_info": {
   "codemirror_mode": {
    "name": "ipython",
    "version": 3
   },
   "file_extension": ".py",
   "mimetype": "text/x-python",
   "name": "python",
   "nbconvert_exporter": "python",
   "pygments_lexer": "ipython3",
   "version": "3.11.9"
  }
 },
 "nbformat": 4,
 "nbformat_minor": 0
}
