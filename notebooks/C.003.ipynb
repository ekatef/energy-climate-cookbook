{
 "cells": [
  {
   "cell_type": "markdown",
   "metadata": {},
   "source": [
    "### Modules used in this notebook\n",
    "`xarray`, `cfgrib`, `matplotlib`, `pandas`, `numpy`"
   ]
  },
  {
   "cell_type": "markdown",
   "metadata": {
    "application/vnd.databricks.v1+cell": {
     "cellMetadata": {},
     "inputWidgets": {},
     "nuid": "3417c394-e18f-4547-abd7-7c03f39ee754",
     "showTitle": false,
     "title": ""
    },
    "id": "tnjBwjHHwxfo"
   },
   "source": [
    "# Climate: C.003 - From speed to power"
   ]
  },
  {
   "cell_type": "markdown",
   "metadata": {
    "application/vnd.databricks.v1+cell": {
     "cellMetadata": {},
     "inputWidgets": {},
     "nuid": "cd59f650-e96c-43ad-a8f1-5956ae36c739",
     "showTitle": false,
     "title": ""
    },
    "id": "85S-n7Q2U_Zy"
   },
   "source": [
    "Weather and climate data is large and can have many dimenstions, for example climate model data would generally have dimensions [time , latitude , longitude]. For this reason filetypes like .csv .dat are not suitable, and some different formats are used. The most common of these are .pp .netcdf and .grib\n",
    "\n",
    "To read these files you will need some particular python libraries. There are multiple options (e.g. 'xarray', 'cfpython') but for this example `cfgrib` and `eccodes` are needed to read GRIB files.\n",
    "\n",
    "> Q1: What is the GRIB format? https://en.wikipedia.org/wiki/GRIB\n",
    "\n",
    "After reading this you should be happy with how the file type differs from the type of data files you could load into software like Excel."
   ]
  },
  {
   "cell_type": "markdown",
   "metadata": {
    "application/vnd.databricks.v1+cell": {
     "cellMetadata": {},
     "inputWidgets": {},
     "nuid": "0623650f-58f8-4c17-8d60-0064875236e7",
     "showTitle": false,
     "title": ""
    },
    "id": "8pTcNCb9zMNt"
   },
   "source": [
    "For this exercise we will be creating wind power data, so lets also load in data from a wind turbine power curve, The Vestas v110 wind turbine."
   ]
  },
  {
   "cell_type": "markdown",
   "metadata": {
    "application/vnd.databricks.v1+cell": {
     "cellMetadata": {},
     "inputWidgets": {},
     "nuid": "c30a64ee-e9ca-4d4a-b63b-96a8eeb53a26",
     "showTitle": false,
     "title": ""
    },
    "id": "kyNdkv4ixJAe"
   },
   "source": [
    "# Opening the file with xarray\n",
    "`xarray` is a powerful open-source library designed to access and manipulate multi-dimensional data. With the `cfgrib` engine, [developed by ECMWF](https://github.com/ecmwf/cfgrib), we can access GRIB data using the `ecCodes` library that was previously downloaded..\n",
    "\n",
    "> Q2: what is the structure of a `xarray` dataset? https://docs.xarray.dev/en/stable/user-guide/data-structures.html#dataset\n",
    "\n",
    "\n",
    "Run the code below to import the xarray librariy and open the dataset.\n",
    "The file naming convention here tells us some information (e.g. that the data is from era5 and probably from March 2019) but all this information can be checked once the data is opened.\n"
   ]
  },
  {
   "cell_type": "code",
   "execution_count": null,
   "metadata": {
    "application/vnd.databricks.v1+cell": {
     "cellMetadata": {},
     "inputWidgets": {},
     "nuid": "09faea37-5f40-44bd-a0a5-0636c4bcab30",
     "showTitle": false,
     "title": ""
    },
    "colab": {
     "base_uri": "https://localhost:8080/",
     "height": 524
    },
    "id": "u2xcAmZoxKbZ",
    "outputId": "592679dc-f095-4f11-960c-1303393053f4"
   },
   "outputs": [],
   "source": [
    "import xarray as xr\n",
    "d = xr.open_dataset('..\\data\\era5-u100_v100_201903.grib')\n",
    "d"
   ]
  },
  {
   "cell_type": "markdown",
   "metadata": {
    "application/vnd.databricks.v1+cell": {
     "cellMetadata": {},
     "inputWidgets": {},
     "nuid": "a0c6d313-5021-4157-9d2d-c7ffff0042e9",
     "showTitle": false,
     "title": ""
    },
    "id": "j59Db41XcZwQ"
   },
   "source": [
    "## Calculating wind speed\n",
    "`u100` and `v100` are respectively the west-east (known as the zonal component) and the south-north (known as meridional) components.\n",
    "\n",
    "<!-- <div style=\"max-width:400px;margin-left: auto; margin-right: 0;\">\n",
    "\n",
    "![windspeed-diagram.png](https://disc.gsfc.nasa.gov/media/image/07af14c37a0a44e482feea5975e1731f/windspeed-diagram.png)\n",
    "\n",
    "</div> -->\n",
    "\n",
    "<div>\n",
    "<img src=\"https://disc.gsfc.nasa.gov/media/image/07af14c37a0a44e482feea5975e1731f/windspeed-diagram.png\" width=\"500\"/>\n",
    "</div>\n",
    "\n",
    "Run the line of code below for an example of how to do this using xarray, and then to reprint the open dataset to see the new field within it.\n"
   ]
  },
  {
   "cell_type": "code",
   "execution_count": null,
   "metadata": {
    "application/vnd.databricks.v1+cell": {
     "cellMetadata": {},
     "inputWidgets": {},
     "nuid": "74de2e0f-353e-483b-8a7e-b637429b858c",
     "showTitle": false,
     "title": ""
    },
    "colab": {
     "base_uri": "https://localhost:8080/",
     "height": 527
    },
    "id": "eJZeHUrQyLTh",
    "outputId": "fe2e4c88-e913-4d72-a408-d49544fbfe8b"
   },
   "outputs": [],
   "source": [
    "d['ws100'] = (d['u100']**2 + d['v100']**2)**(1/2)\n",
    "d"
   ]
  },
  {
   "cell_type": "markdown",
   "metadata": {
    "application/vnd.databricks.v1+cell": {
     "cellMetadata": {},
     "inputWidgets": {},
     "nuid": "a3e915c5-0f52-49cf-8a21-792ccb602d91",
     "showTitle": false,
     "title": ""
    },
    "id": "56-XNb8bccuv"
   },
   "source": [
    "## Extracting a time-series\n",
    "\n",
    "We may want to calculate timeseries of wind or solar power at a particular location. To do this we need some knowledge of the area covered within the data file (see above).\n",
    "\n",
    "Run the following lines of code for examples of how to extract a time-series of data by selecting the nearest grid point to a location of interest, and plotting this out.\n",
    "\n",
    "Note we are using our new 100m wind speed field created in the previous example.\n",
    "\n",
    "> Q4: Can you adapt the above code to extact some data from an operational wind farm location?"
   ]
  },
  {
   "cell_type": "code",
   "execution_count": null,
   "metadata": {
    "application/vnd.databricks.v1+cell": {
     "cellMetadata": {},
     "inputWidgets": {},
     "nuid": "1039dcc3-509a-429f-be94-d24bf29f2896",
     "showTitle": false,
     "title": ""
    },
    "colab": {
     "base_uri": "https://localhost:8080/"
    },
    "id": "kXjSfNNOcdeo",
    "outputId": "ed04b3ce-b163-45b8-b03d-bf69f8ba4a69"
   },
   "outputs": [],
   "source": [
    "sel_lat = 56.84\n",
    "sel_lon = 23.88\n",
    "\n",
    "single_nearest = d.sel(latitude = sel_lat, longitude = sel_lon, method = 'nearest')\n",
    "print(single_nearest)"
   ]
  },
  {
   "cell_type": "markdown",
   "metadata": {
    "application/vnd.databricks.v1+cell": {
     "cellMetadata": {},
     "inputWidgets": {},
     "nuid": "b699a656-b235-4457-8257-eccb480a3e2d",
     "showTitle": false,
     "title": ""
    },
    "id": "m36o-bYQz0mW"
   },
   "source": [
    "# Conversion to wind power\n",
    "\n",
    "Now the data is loaded and we have a timeseries we need to load in a few more python libraries to load in the power curve.\n",
    "Here we use 'pandas' to read the csv file, and then load in 'numpy' and 'matplotlib' to explore the data further.\n",
    "\n",
    "Run the following two blocks of code to load and plot the wind turbine power curve.\n",
    "\n",
    "Note that knowledge of the names of the two fields wind speed 'ws' and capacity factor 'cf' were needed in advance. You can see these in the printed header of the file\n",
    "\n",
    "> Q5: What characteristics do you expect to see in a wind farm power curve? Are these present i nthe curve you can see plotted below?"
   ]
  },
  {
   "cell_type": "code",
   "execution_count": null,
   "metadata": {
    "application/vnd.databricks.v1+cell": {
     "cellMetadata": {},
     "inputWidgets": {},
     "nuid": "52e2842a-fed0-4db4-986c-1dd0842e61c6",
     "showTitle": false,
     "title": ""
    },
    "id": "E70jBqRB65zn"
   },
   "outputs": [],
   "source": [
    "import pandas as pd\n",
    "import numpy as np\n",
    "import matplotlib.pyplot as plt"
   ]
  },
  {
   "cell_type": "code",
   "execution_count": null,
   "metadata": {
    "application/vnd.databricks.v1+cell": {
     "cellMetadata": {},
     "inputWidgets": {},
     "nuid": "42d27896-f759-47d5-9320-9a8cdd4a2fe9",
     "showTitle": false,
     "title": ""
    },
    "colab": {
     "base_uri": "https://localhost:8080/",
     "height": 455
    },
    "id": "haOGKIo466o8",
    "outputId": "f8a5a48e-3bee-48f7-d2d1-d46d69e12fb3"
   },
   "outputs": [],
   "source": [
    "cv = pd.read_csv('https://raw.githubusercontent.com/hcbloomfield19/UREAD_energy_models_demo_scripts/main/Vestas_v110_2000MW_ECEM_turbine.csv', names = ['ws', '', 'cf'], delimiter= '  ')\n",
    "print(cv.head())\n",
    "plt.plot(cv['ws'],cv['cf'])\n",
    "plt.xlabel('100m wind speed (ms$^{-1})')\n",
    "plt.ylabel('Capacity factor')"
   ]
  },
  {
   "cell_type": "markdown",
   "metadata": {
    "application/vnd.databricks.v1+cell": {
     "cellMetadata": {},
     "inputWidgets": {},
     "nuid": "1bc8330c-f523-459f-b583-f27899da18c8",
     "showTitle": false,
     "title": ""
    },
    "id": "AIiBcKtT8Qqh"
   },
   "source": [
    "Above we see that this turbine starts generating if hub-height winds are > 3 m/s and then has a 'ramping region' until around 11 m/s. The hub then reaches rated power and produces the same amount of generation for all wind speeds until the cut-out threshold.\n",
    "\n",
    "Note that this curve represents an individual wind farm and does not try to model the interactions between wind turbines (due to turbulent wakes etc.) It also does not account for any foreced outages or efficiency reductions.\n",
    "\n",
    "\n",
    "To convert from wind speed to wind power a function is defined below.\n",
    "This interpolates the wind speeds from the curve onto a very fine resolution (501 points) and then uses the numpy digitise function https://numpy.org/doc/stable/reference/generated/numpy.digitize.html to assign each wind speed to a given capacity factor.\n",
    "\n",
    "Note this is part of the method used in Bloomfield et al., (2020) https://rmets.onlinelibrary.wiley.com/doi/full/10.1002/met.1858 But many wind power models (e.g. renewables.ninja)  do similar style of methods with some added complexity."
   ]
  },
  {
   "cell_type": "code",
   "execution_count": null,
   "metadata": {
    "application/vnd.databricks.v1+cell": {
     "cellMetadata": {},
     "inputWidgets": {},
     "nuid": "0f03a164-88e7-4741-b92f-e73a2e1a8cf9",
     "showTitle": false,
     "title": ""
    },
    "id": "mLo1bsWg69gt"
   },
   "outputs": [],
   "source": [
    "def convert_to_windpower(wind_speed_data,power_curve_data):\n",
    "    # convert to an array\n",
    "    power_curve_w = np.array(power_curve_data['ws'])\n",
    "    power_curve_p = np.array(power_curve_data['cf'])\n",
    "\n",
    "    #interpolate to fine resolution.\n",
    "    pc_winds = np.linspace(0,50,501) # make it finer resolution\n",
    "    pc_power = np.interp(pc_winds,power_curve_w,power_curve_p)\n",
    "\n",
    "    reshaped_speed = wind_speed_data.flatten()\n",
    "    test = np.digitize(reshaped_speed,pc_winds,right=False) # indexing starts\n",
    "    #from 1 so needs -1: 0 in the next bit to start from the lowest bin.\n",
    "    test[test ==len(pc_winds)] = 500 # make sure the bins don't go off the\n",
    "    #end (power is zero by then anyway)\n",
    "    wind_power_flattened = 0.5*(pc_power[test-1]+pc_power[test])\n",
    "\n",
    "    wind_power_cf = np.reshape(wind_power_flattened,(np.shape(wind_speed_data)))\n",
    "\n",
    "    return(wind_power_cf)\n"
   ]
  },
  {
   "cell_type": "markdown",
   "metadata": {
    "application/vnd.databricks.v1+cell": {
     "cellMetadata": {},
     "inputWidgets": {},
     "nuid": "dbc70bd2-cbd5-4657-b072-9090ec726967",
     "showTitle": false,
     "title": ""
    },
    "id": "aOqXNm--9Kjq"
   },
   "source": [
    "Run the line of code below to convert the wind speed data into capacity factors.\n",
    "Note this is a two step process which is both:\n",
    "1. passing ws100 through the wind power function and then creating a new field callled 'cf' in the data file."
   ]
  },
  {
   "cell_type": "code",
   "execution_count": null,
   "metadata": {
    "application/vnd.databricks.v1+cell": {
     "cellMetadata": {},
     "inputWidgets": {},
     "nuid": "3f1c2fef-384a-42a9-9ba6-42859897f68a",
     "showTitle": false,
     "title": ""
    },
    "colab": {
     "base_uri": "https://localhost:8080/",
     "height": 548
    },
    "id": "sofgDHh28CCV",
    "outputId": "b352cddb-284c-49d5-a25b-c898581cfa94"
   },
   "outputs": [],
   "source": [
    "d['cf'] = (['time', 'latitude', 'longitude'],  convert_to_windpower(d['ws100'].values, cv) )\n",
    "d"
   ]
  },
  {
   "cell_type": "markdown",
   "metadata": {
    "application/vnd.databricks.v1+cell": {
     "cellMetadata": {},
     "inputWidgets": {},
     "nuid": "999e58c7-e9cc-4ba9-9e99-419a1621eb43",
     "showTitle": false,
     "title": ""
    },
    "id": "Ji00trNe9_WJ"
   },
   "source": [
    "# Visualising the Capacity factor data\n",
    "\n",
    "There are various methods that can be used to visualise the capacity factor data. An example of this is shown below using the inbuilt plotting functions from within xarray.\n",
    "\n",
    "This line of code selects a set of time slices, defines the coordinates and then defines the plotting parameters.\n",
    "\n",
    "> Q6: Can you plot the capacity factor map for the day in which the whole area expierences the highest average generation and lower average generation (Hint: see the 'Box Average' tutorital as a starting point)."
   ]
  },
  {
   "cell_type": "code",
   "execution_count": null,
   "metadata": {
    "application/vnd.databricks.v1+cell": {
     "cellMetadata": {},
     "inputWidgets": {},
     "nuid": "13dde9e6-676d-4ec6-84ec-9f1a46de96f6",
     "showTitle": false,
     "title": ""
    },
    "colab": {
     "base_uri": "https://localhost:8080/",
     "height": 458
    },
    "id": "x4T_TNOw8Wu7",
    "outputId": "5d090a2d-ca8c-445d-9b67-48b05c408de9"
   },
   "outputs": [],
   "source": [
    "\n",
    "d['cf'].isel(time=slice(0,48, 8)).plot(x=\"longitude\", y=\"latitude\", col=\"time\", col_wrap=3, cmap=plt.cm.viridis)\n",
    "\n",
    "\n"
   ]
  },
  {
   "cell_type": "code",
   "execution_count": null,
   "metadata": {
    "application/vnd.databricks.v1+cell": {
     "cellMetadata": {},
     "inputWidgets": {},
     "nuid": "ab033a72-0208-4c0a-b467-186966e339a3",
     "showTitle": false,
     "title": ""
    },
    "colab": {
     "base_uri": "https://localhost:8080/",
     "height": 313
    },
    "id": "N4CAW4HT8mXz",
    "outputId": "8b987706-e549-425a-8931-fe393227acb8"
   },
   "outputs": [],
   "source": [
    "d['cf'].isel(time=d['cf'].mean(dim=['latitude', 'longitude']).argmax('time')).plot(x=\"longitude\", y=\"latitude\")"
   ]
  }
 ],
 "metadata": {
  "application/vnd.databricks.v1+notebook": {
   "dashboards": [],
   "environmentMetadata": null,
   "language": "python",
   "notebookMetadata": {
    "pythonIndentUnit": 4
   },
   "notebookName": "C.003",
   "widgets": {}
  },
  "colab": {
   "provenance": []
  },
  "kernelspec": {
   "display_name": "Python 3",
   "name": "python3"
  },
  "language_info": {
   "codemirror_mode": {
    "name": "ipython",
    "version": 3
   },
   "file_extension": ".py",
   "mimetype": "text/x-python",
   "name": "python",
   "nbconvert_exporter": "python",
   "pygments_lexer": "ipython3",
   "version": "3.12.5"
  }
 },
 "nbformat": 4,
 "nbformat_minor": 0
}
