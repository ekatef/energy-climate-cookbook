{
 "cells": [
  {
   "cell_type": "markdown",
   "metadata": {},
   "source": [
    "### Modules used in this notebook\n",
    "xarray, cfgrib, cartopy, numpy"
   ]
  },
  {
   "cell_type": "markdown",
   "metadata": {
    "application/vnd.databricks.v1+cell": {
     "cellMetadata": {},
     "inputWidgets": {},
     "nuid": "3994c8b4-90ff-47fb-a903-4d07627edd68",
     "showTitle": false,
     "title": ""
    },
    "id": "BvuQcGUQ_rTH"
   },
   "source": [
    "# C.004: Creating more complex maps"
   ]
  },
  {
   "cell_type": "code",
   "execution_count": null,
   "metadata": {
    "application/vnd.databricks.v1+cell": {
     "cellMetadata": {
      "byteLimit": 2048000,
      "rowLimit": 10000
     },
     "inputWidgets": {},
     "nuid": "acba7153-e513-4a41-8a0d-c3340b4ce6a1",
     "showTitle": false,
     "title": ""
    },
    "colab": {
     "base_uri": "https://localhost:8080/"
    },
    "id": "gRgFdorYASvH",
    "outputId": "bf3cb69d-df9b-496b-c387-fb07a1b9912d"
   },
   "outputs": [],
   "source": [
    "import numpy as np\n",
    "import xarray as xr # xarray library access and manipulate multi-dimensional data (such as netcdf). With the cfgrib engine we can manipulate grib files\n",
    "from matplotlib import pyplot as plt # matplotlib package provides different functions to plot data\n",
    "import cartopy.crs as ccrs # cartopy package can be integrated with matplotlib to plot georeferenced data\n",
    "import cartopy.feature"
   ]
  },
  {
   "cell_type": "markdown",
   "metadata": {
    "application/vnd.databricks.v1+cell": {
     "cellMetadata": {},
     "inputWidgets": {},
     "nuid": "365768e8-e59f-4b22-8f38-7d69772c1287",
     "showTitle": false,
     "title": ""
    },
    "id": "Haibj6XBGz7V"
   },
   "source": [
    "We use xarray to open the dataset, compute the wind speed and the daily mean from hourly data"
   ]
  },
  {
   "cell_type": "code",
   "execution_count": null,
   "metadata": {
    "application/vnd.databricks.v1+cell": {
     "cellMetadata": {
      "byteLimit": 2048000,
      "rowLimit": 10000
     },
     "inputWidgets": {},
     "nuid": "3b8e4db0-6ce1-4242-a830-f8bef0924e91",
     "showTitle": false,
     "title": ""
    },
    "colab": {
     "base_uri": "https://localhost:8080/",
     "height": 350
    },
    "id": "XmyXtuwpAsII",
    "outputId": "f00e5cc7-a688-4490-8952-529172fee9e9"
   },
   "outputs": [],
   "source": [
    "ds = xr.open_dataset('../data/era5-u100_v100_201903.grib')\n",
    "# ds = ds.assign({'ws100': (ds['u100']**2 + ds['v100']**2)**0.5})\n",
    "ds['ws100'] = (ds['u100']**2 + ds['v100']**2)**0.5"
   ]
  },
  {
   "cell_type": "code",
   "execution_count": null,
   "metadata": {
    "application/vnd.databricks.v1+cell": {
     "cellMetadata": {
      "byteLimit": 2048000,
      "rowLimit": 10000
     },
     "inputWidgets": {},
     "nuid": "b565136d-d911-4a60-8b34-6d85313b5f32",
     "showTitle": false,
     "title": ""
    }
   },
   "outputs": [],
   "source": [
    "# compute daily mean\n",
    "ds_daily = ds.resample(time='1D').mean('time')\n",
    "ds_daily"
   ]
  },
  {
   "cell_type": "markdown",
   "metadata": {
    "application/vnd.databricks.v1+cell": {
     "cellMetadata": {},
     "inputWidgets": {},
     "nuid": "a031685b-ea07-4b34-9a24-1ad67283ba6f",
     "showTitle": false,
     "title": ""
    },
    "id": "FHsJHc4cG_gk"
   },
   "source": [
    "### Create the map\n",
    "\n",
    "We use cartopy package that, together with matplotlib, helps plot variables with different projections\n",
    "\n",
    "All the available projections can be found [here](https://scitools.org.uk/cartopy/docs/v0.13/crs/projections.html#cartopy-projections)\n"
   ]
  },
  {
   "cell_type": "code",
   "execution_count": null,
   "metadata": {
    "application/vnd.databricks.v1+cell": {
     "cellMetadata": {
      "byteLimit": 2048000,
      "rowLimit": 10000
     },
     "inputWidgets": {},
     "nuid": "4e82e645-550d-472a-aa91-f8bcbb4be0c8",
     "showTitle": false,
     "title": ""
    },
    "colab": {
     "base_uri": "https://localhost:8080/",
     "height": 864
    },
    "id": "SJU0W-ye_m0R",
    "outputId": "bffd33fc-33a6-482b-c48e-028891bde466"
   },
   "outputs": [],
   "source": [
    "# set the desire countour levels\n",
    "clevs = np.arange(0, 28, 4)\n",
    "# create the lat lon grid from the data latitudes and longitudes\n",
    "lons, lats = np.meshgrid(ds_daily.longitude.values, ds_daily.latitude.values)\n",
    "# create the figure instance, the top level container of the figure\n",
    "fig = plt.figure(figsize=(16, 11))\n",
    "crs_latlon = ccrs.PlateCarree()\n",
    "# generate the axes which have the projection that we will use\n",
    "ax = plt.subplot(projection=ccrs.PlateCarree(central_longitude=0))\n",
    "# set the limits of the domain relative to the projection\n",
    "ax.set_extent([-12, 20, 36, 60], crs_latlon)\n",
    "# filled contours of the magnitude of wind at 10mm for the first date\n",
    "im=ax.contourf(lons, lats, ds_daily['ws100'].isel(time=0), clevs, transform=crs_latlon,\n",
    "               cmap='YlGnBu', extend='max')\n",
    "# uncomment the following line in you want to add contours to the shading\n",
    "# ax.contour(lons, lats, ds_daily['ws100'].isel(time=0), colors='k', linewidths=0.5,\n",
    "#           levels=clevs, transform=crs_latlon)\n",
    "# generate colorbar and place it besides the plot\n",
    "cbar = plt.colorbar(im, fraction=0.052, pad=0.04, shrink=0.8, aspect=15)\n",
    "# tune the labels and ticks\n",
    "cbar.ax.tick_params(labelsize=12)\n",
    "cbar.set_label('m/s', labelpad=-40, y=-0.02, rotation=0, fontsize=15)\n",
    "# add coastlines. resolution can be coarser (for instance, 50m)\n",
    "ax.coastlines(resolution='10m', color='black', linewidth=1)\n",
    "# add country borders\n",
    "ax.add_feature(cartopy.feature.BORDERS, linestyle='-', alpha=.7)\n",
    "# add gridlines, lat and lon and tune the labels\n",
    "gl = ax.gridlines(crs=crs_latlon, draw_labels=True, linewidth=0.3, linestyle='-')\n",
    "gl.top_labels = False\n",
    "gl.right_labels = False\n",
    "gl.xlabel_style = {'size': 12, 'color': 'gray'}\n",
    "gl.ylabel_style = {'size': 12, 'color': 'gray'}\n",
    "# add figure title\n",
    "ax.set_title('Mean Wind Speed at 100m - ' + str(ds_daily.time[0].values.astype('datetime64[D]')),\n",
    "             fontsize=15)\n",
    "# save figure with 300 dpi resolution\n",
    "plt.savefig('MagU_100m_' + str(ds.time[0].values.astype('datetime64[D]'))+ '.jpg',\n",
    "            dpi=300, bbox_inches='tight')"
   ]
  }
 ],
 "metadata": {
  "application/vnd.databricks.v1+notebook": {
   "dashboards": [],
   "environmentMetadata": null,
   "language": "python",
   "notebookMetadata": {
    "pythonIndentUnit": 4
   },
   "notebookName": "C.004",
   "widgets": {}
  },
  "colab": {
   "provenance": []
  },
  "kernelspec": {
   "display_name": "Python 3",
   "name": "python3"
  },
  "language_info": {
   "codemirror_mode": {
    "name": "ipython",
    "version": 3
   },
   "file_extension": ".py",
   "mimetype": "text/x-python",
   "name": "python",
   "nbconvert_exporter": "python",
   "pygments_lexer": "ipython3",
   "version": "3.12.5"
  }
 },
 "nbformat": 4,
 "nbformat_minor": 0
}
