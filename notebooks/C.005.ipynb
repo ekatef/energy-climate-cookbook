{
 "cells": [
  {
   "cell_type": "markdown",
   "metadata": {},
   "source": [
    "### Modules used in this notebook\n",
    "xarray, numpy, cfgrib, regionmask, matplotlib"
   ]
  },
  {
   "cell_type": "markdown",
   "metadata": {
    "application/vnd.databricks.v1+cell": {
     "cellMetadata": {},
     "inputWidgets": {},
     "nuid": "119d5591-e60d-4c09-98a5-b7817dd7a1a1",
     "showTitle": false,
     "title": ""
    },
    "id": "BvuQcGUQ_rTH"
   },
   "source": [
    "# C.005: how to apply a mask (country mask, weighted mask)"
   ]
  },
  {
   "cell_type": "markdown",
   "metadata": {
    "application/vnd.databricks.v1+cell": {
     "cellMetadata": {},
     "inputWidgets": {},
     "nuid": "3bd8de73-9d4a-4b44-b963-c87c04d24eae",
     "showTitle": false,
     "title": ""
    },
    "id": "UWO8xfMlGrit"
   },
   "source": [
    "Load the packages"
   ]
  },
  {
   "cell_type": "code",
   "execution_count": null,
   "metadata": {
    "application/vnd.databricks.v1+cell": {
     "cellMetadata": {},
     "inputWidgets": {},
     "nuid": "b2141dbe-93f0-4e9c-a078-cc6c2b018344",
     "showTitle": false,
     "title": ""
    },
    "colab": {
     "base_uri": "https://localhost:8080/"
    },
    "id": "gRgFdorYASvH",
    "outputId": "cf5729b9-e881-49a5-b629-85ed23c57258"
   },
   "outputs": [],
   "source": [
    "import numpy as np\n",
    "import cfgrib\n",
    "import xarray as xr # xarray library access and manipulate multi-dimensional data (such as netcdf). With the cfgrib engine we can manipulate grib files\n",
    "import regionmask # regionmask helps create of geographical regions.\n",
    "from matplotlib import pyplot as plt # matplotlib package provides different functions to plot data"
   ]
  },
  {
   "cell_type": "code",
   "execution_count": null,
   "metadata": {
    "application/vnd.databricks.v1+cell": {
     "cellMetadata": {},
     "inputWidgets": {},
     "nuid": "74498caf-ed2a-4885-9abd-3cf76874e65e",
     "showTitle": false,
     "title": ""
    },
    "colab": {
     "base_uri": "https://localhost:8080/"
    },
    "id": "7OyNEl8RAkoJ",
    "outputId": "8b72bff1-81bb-421f-eb11-48c62f3081a8"
   },
   "outputs": [],
   "source": [
    "# downloading the files from Goole Drive\n",
    "# if you are running this notebook locally, please install gdown with `pip install gdown`\n",
    "!gdown 1r-BSm3vF-Ey0ss-uZESU06u152ewsrGR"
   ]
  },
  {
   "cell_type": "markdown",
   "metadata": {
    "application/vnd.databricks.v1+cell": {
     "cellMetadata": {},
     "inputWidgets": {},
     "nuid": "83316de0-1d97-4a3e-98da-6583b40bdb23",
     "showTitle": false,
     "title": ""
    },
    "id": "Haibj6XBGz7V"
   },
   "source": [
    "We use xarray to open the dataset"
   ]
  },
  {
   "cell_type": "code",
   "execution_count": null,
   "metadata": {
    "application/vnd.databricks.v1+cell": {
     "cellMetadata": {},
     "inputWidgets": {},
     "nuid": "8652bb8f-2007-42b7-966c-a9d5caefa6d2",
     "showTitle": false,
     "title": ""
    },
    "colab": {
     "base_uri": "https://localhost:8080/",
     "height": 527
    },
    "id": "XmyXtuwpAsII",
    "outputId": "759b8aec-5615-4f6e-8364-d88feb46f973"
   },
   "outputs": [],
   "source": [
    "\n",
    "ds = xr.open_dataset('era5-u100_v100_201903.grib')\n",
    "ds = ds.assign({'ws100': (ds['u100']**2 + ds['v100']**2)**0.5})\n",
    "ds"
   ]
  },
  {
   "cell_type": "markdown",
   "metadata": {
    "application/vnd.databricks.v1+cell": {
     "cellMetadata": {},
     "inputWidgets": {},
     "nuid": "008f9013-7c93-47f2-8fb0-12293ca04cac",
     "showTitle": false,
     "title": ""
    },
    "id": "FHsJHc4cG_gk"
   },
   "source": [
    "Select three domains:\n",
    "- Germany\n",
    "- France\n",
    "-United Kingdom\n",
    "\n",
    "Plot the hourly evolution of the wind speed at 100m averaged at the three domains\n",
    "\n",
    "The outline of the countries are obtained from [Natural Earth](https://www.naturalearthdata.com/). They are automatically downloaded, cached and opened with geopandas.\n"
   ]
  },
  {
   "cell_type": "code",
   "execution_count": null,
   "metadata": {
    "application/vnd.databricks.v1+cell": {
     "cellMetadata": {},
     "inputWidgets": {},
     "nuid": "4cfd8c08-aac8-4208-a76f-a9711f5548ce",
     "showTitle": false,
     "title": ""
    },
    "colab": {
     "base_uri": "https://localhost:8080/",
     "height": 785
    },
    "id": "3VwtvKKZ6_zo",
    "outputId": "08924304-3b73-494e-c687-5781d46ff3ef"
   },
   "outputs": [],
   "source": [
    "# create the cosine weight of latitudes\n",
    "weigths = np.cos(np.deg2rad(ds.latitude))\n",
    "# create mask of countries based on the data latitude and longitude\n",
    "countries_masked = regionmask.defined_regions.natural_earth_v5_0_0.countries_110.mask(ds, lon_name='longitude', lat_name='latitude')\n",
    "\n",
    "countries_name = ['Germany', 'France', 'United Kingdom']\n",
    "colors = ['blue', 'green', 'orange']\n",
    "\n",
    "fig, ax = plt.subplots(figsize=(18, 12))\n",
    "for ii, i in enumerate(countries_name):\n",
    "    # select different countries\n",
    "    ds_country =ds['ws100'].where(countries_masked==regionmask.defined_regions.natural_earth_v5_0_0.countries_110.map_keys(i))\n",
    "    # applied the weighted mean over the country\n",
    "    wnd100m_country = ds_country.weighted(weigths).mean(dim=('latitude', 'longitude'))\n",
    "    ax.plot(wnd100m_country, color=colors[ii], label=i)\n",
    "ax.set_xticks(np.arange(0, len(wnd100m_country.time), 3 * 24))\n",
    "ax.set_xticklabels(wnd100m_country['time'].values[0: -1: 3 * 24].astype('datetime64[D]'), rotation=45, fontsize=12)\n",
    "ax.set_ylim([0, 18])\n",
    "ax.set_xlabel('Date', fontsize=14)\n",
    "ax.set_ylabel('Wind Speed (m/s)', fontsize=14)\n",
    "ax.legend(fontsize=15)\n",
    "plt.title('Wind speed at 100m', fontsize=15)\n",
    "plt.savefig('wind_speed_100m_countries.png')\n"
   ]
  },
  {
   "cell_type": "code",
   "execution_count": null,
   "metadata": {
    "application/vnd.databricks.v1+cell": {
     "cellMetadata": {},
     "inputWidgets": {},
     "nuid": "efefadce-8aae-4c5e-80d6-9532a76a88b8",
     "showTitle": false,
     "title": ""
    },
    "id": "okloqd-JO4Xt"
   },
   "outputs": [],
   "source": []
  }
 ],
 "metadata": {
  "application/vnd.databricks.v1+notebook": {
   "dashboards": [],
   "environmentMetadata": null,
   "language": "python",
   "notebookMetadata": {
    "pythonIndentUnit": 4
   },
   "notebookName": "C.005",
   "widgets": {}
  },
  "colab": {
   "provenance": []
  },
  "kernelspec": {
   "display_name": "Python 3",
   "name": "python3"
  },
  "language_info": {
   "codemirror_mode": {
    "name": "ipython",
    "version": 3
   },
   "file_extension": ".py",
   "mimetype": "text/x-python",
   "name": "python",
   "nbconvert_exporter": "python",
   "pygments_lexer": "ipython3",
   "version": "3.12.5"
  }
 },
 "nbformat": 4,
 "nbformat_minor": 0
}
