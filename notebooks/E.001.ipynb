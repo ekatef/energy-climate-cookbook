{
 "cells": [
  {
   "cell_type": "markdown",
   "metadata": {},
   "source": [
    "### Modules used in this notebook\n",
    "pypsa, plotnine"
   ]
  },
  {
   "cell_type": "markdown",
   "metadata": {
    "application/vnd.databricks.v1+cell": {
     "cellMetadata": {},
     "inputWidgets": {},
     "nuid": "00ea3712-6a96-4953-b746-03b82bad9030",
     "showTitle": false,
     "title": ""
    },
    "id": "pUoJmIqaGa-g"
   },
   "source": [
    "## E.01: Creating your first power system model\n",
    "In this notebook you will create a simple power system model simulating a system with specific month of the year using wind and solar profiles based on atmospheric reanalysis data. The model will be optimised to define the optimal capacity of batteries needed to balance the system."
   ]
  },
  {
   "cell_type": "markdown",
   "metadata": {
    "application/vnd.databricks.v1+cell": {
     "cellMetadata": {},
     "inputWidgets": {},
     "nuid": "00f3b7ec-692c-4ad8-bc49-45970dbfbfea",
     "showTitle": false,
     "title": ""
    },
    "id": "Br6zganalCxo"
   },
   "source": [
    "# Step 01: Setting up the environment\n",
    "This part of the notebook install the needed Python modules and the solver ([cbc](https://github.com/coin-or/Cbc), a widely-used open source solver).\n",
    "The installed Python modules are:\n",
    "  - PyPSA: [an open-source power system model](https://pypsa.org/)"
   ]
  },
  {
   "cell_type": "code",
   "execution_count": null,
   "metadata": {
    "application/vnd.databricks.v1+cell": {
     "cellMetadata": {
      "byteLimit": 2048000,
      "rowLimit": 10000
     },
     "inputWidgets": {},
     "nuid": "77da7ec7-dfa2-4a95-9926-e71eab9d9671",
     "showTitle": false,
     "title": ""
    }
   },
   "outputs": [],
   "source": [
    "!pip install plotnine"
   ]
  },
  {
   "cell_type": "code",
   "execution_count": null,
   "metadata": {
    "application/vnd.databricks.v1+cell": {
     "cellMetadata": {
      "byteLimit": 2048000,
      "rowLimit": 10000
     },
     "inputWidgets": {},
     "nuid": "4f0a0098-8fde-4a4e-abe0-02d421d8c6fa",
     "showTitle": false,
     "title": ""
    },
    "colab": {
     "base_uri": "https://localhost:8080/"
    },
    "id": "d3F-oXszpANo",
    "outputId": "c92a73cb-c7b2-44a0-9faa-e5de4b304f32"
   },
   "outputs": [],
   "source": [
    "!pip install pypsa # power system model\n",
    "!apt-get install -y -qq coinor-cbc # open source solver"
   ]
  },
  {
   "cell_type": "markdown",
   "metadata": {
    "application/vnd.databricks.v1+cell": {
     "cellMetadata": {},
     "inputWidgets": {},
     "nuid": "e7db1bf7-ba5e-4cce-9a53-98dbdd7045b5",
     "showTitle": false,
     "title": ""
    },
    "id": "qU97kt7NPund"
   },
   "source": [
    "# Step 02: Download wind, solar, demand data\n",
    "Here the download a set of Parquet files containing the electricity demand, wind and solar profiles based on [this dataset](https://researchdata.reading.ac.uk/272/) developed by Bloomfield et al., University of Reading.\n",
    "\n",
    "The Parquet files provide a data frame with the hourly values for all the European countries for the years 2000-2019 (the original dataset goes back to 1979 but we have kept only the last 20 years to reduce the amount of storage needed to run this notebook)."
   ]
  },
  {
   "cell_type": "code",
   "execution_count": null,
   "metadata": {
    "application/vnd.databricks.v1+cell": {
     "cellMetadata": {
      "byteLimit": 2048000,
      "rowLimit": 10000
     },
     "inputWidgets": {},
     "nuid": "77caf81a-e73b-4397-a9a2-1403253a3858",
     "showTitle": false,
     "title": ""
    },
    "colab": {
     "base_uri": "https://localhost:8080/",
     "height": 342
    },
    "id": "33o_CJfnYLa9",
    "outputId": "e6bc6a59-3225-4b31-e8e4-406a60fbaf1d"
   },
   "outputs": [],
   "source": [
    "import pandas as pd\n",
    "dem = pd.read_parquet('../data/ERA5_full_demand_all_countries_2000_2019_hourly.parquet')\n",
    "pv  = pd.read_parquet('../data/ERA5_solar_power_capacity_factor_all_countries_2000_2019_hourly.parquet')\n",
    "win = pd.read_parquet('../data/ERA5_wind_power_capacity_factor_all_countries_2000_2019_inclusive.parquet')\n",
    "dem.head()"
   ]
  },
  {
   "cell_type": "markdown",
   "metadata": {
    "application/vnd.databricks.v1+cell": {
     "cellMetadata": {},
     "inputWidgets": {},
     "nuid": "c5791964-2289-4340-9040-135175c07311",
     "showTitle": false,
     "title": ""
    },
    "id": "TNL-CqgKo3F3"
   },
   "source": [
    "# Step 03: selecting year, month, and country\n",
    "In this example we simulate a power system model consisting of a wind power farm, a solar plant and a lithium-ion battery using the electricity demand and the RES profiles (capacity factors) for a specific country and a specific month."
   ]
  },
  {
   "cell_type": "code",
   "execution_count": null,
   "metadata": {
    "application/vnd.databricks.v1+cell": {
     "cellMetadata": {
      "byteLimit": 2048000,
      "rowLimit": 10000
     },
     "inputWidgets": {},
     "nuid": "753e9aed-f91b-4694-8a04-928a11752aae",
     "showTitle": false,
     "title": ""
    },
    "id": "zy3OG79spC1M"
   },
   "outputs": [],
   "source": [
    "selected_year = 2012 # 2000-2019\n",
    "selected_month = 2 # 1 = January, 12 = December\n",
    "country = 'Spain'"
   ]
  },
  {
   "cell_type": "code",
   "execution_count": null,
   "metadata": {
    "application/vnd.databricks.v1+cell": {
     "cellMetadata": {
      "byteLimit": 2048000,
      "rowLimit": 10000
     },
     "inputWidgets": {},
     "nuid": "a559f127-40ac-4c61-8367-78bea429d61c",
     "showTitle": false,
     "title": ""
    },
    "id": "SOL2ZtGSnq6-"
   },
   "outputs": [],
   "source": [
    "# Select demand, solar (PV) and wind profiles\n",
    "selected_dem = dem.loc[(pd.DatetimeIndex(dem['datetime']).year == selected_year) & (pd.DatetimeIndex(dem['datetime']).month == selected_month)][country]\n",
    "selected_pv  = pv.loc[(pd.DatetimeIndex(pv['datetime']).year == selected_year) & (pd.DatetimeIndex(pv['datetime']).month == selected_month)][country]\n",
    "selected_win = win.loc[(pd.DatetimeIndex(win['datetime']).year == selected_year) & (pd.DatetimeIndex(win['datetime']).month == selected_month)][country]"
   ]
  },
  {
   "cell_type": "markdown",
   "metadata": {
    "application/vnd.databricks.v1+cell": {
     "cellMetadata": {},
     "inputWidgets": {},
     "nuid": "31a11094-b6d5-421d-ab6f-f6c8e4b36f17",
     "showTitle": false,
     "title": ""
    },
    "id": "KawTfPF6P92A"
   },
   "source": [
    "# Step 04: Building the power system model\n",
    "\n",
    "We create here a single-bus PyPSA network with:\n",
    "  - `Wind`: A wind generator with the cost of 35 000 EUR per MW\n",
    "  - `Solar`: a solar generator with the cost of 20 000 EUR per MW\n",
    "  - `Battery`: a battery with 3 hours of storage with the cost of 45 000 EUR per MW. The efficiency is 90%.\n",
    "\n",
    "The system has an electricity demand defined by the load `L1`"
   ]
  },
  {
   "cell_type": "code",
   "execution_count": null,
   "metadata": {
    "application/vnd.databricks.v1+cell": {
     "cellMetadata": {
      "byteLimit": 2048000,
      "rowLimit": 10000
     },
     "inputWidgets": {},
     "nuid": "205b3dea-fd02-4b84-a616-e6b11e28ef3d",
     "showTitle": false,
     "title": ""
    },
    "id": "moybk7qLPts7"
   },
   "outputs": [],
   "source": [
    "import pypsa\n",
    "\n",
    "network = pypsa.Network(snapshots = selected_dem.index)\n",
    "network.add(\"Bus\", \"B1\")\n",
    "\n",
    "network.add(\"Generator\", \"Wind\",\n",
    "            carrier = 'wind',\n",
    "            bus=\"B1\",\n",
    "            capital_cost = 35_000,\n",
    "            p_max_pu = selected_win,\n",
    "            p_nom_extendable = True,\n",
    "            control=\"PQ\")\n",
    "\n",
    "network.add(\"Generator\", \"Solar\",\n",
    "            carrier = 'solar',\n",
    "            bus=\"B1\",\n",
    "            capital_cost = 20_000,\n",
    "            p_max_pu = selected_pv,\n",
    "            p_nom_extendable = True,\n",
    "            control=\"PQ\")\n",
    "\n",
    "network.add(\"StorageUnit\", \"Battery\",\n",
    "            bus=\"B1\",\n",
    "            capital_cost = 45_000,\n",
    "            efficiency_store = 0.9,\n",
    "            efficiency_dispatch = 0.9,\n",
    "            max_hours = 3,\n",
    "            p_nom_extendable = True\n",
    "            )\n",
    "\n",
    "network.add(\"Load\", \"L1\",\n",
    "            bus=\"B1\",\n",
    "            p_set=selected_dem*1e3)\n"
   ]
  },
  {
   "cell_type": "markdown",
   "metadata": {
    "application/vnd.databricks.v1+cell": {
     "cellMetadata": {},
     "inputWidgets": {},
     "nuid": "468c137a-2f0a-44a8-b245-da62db7c0c8f",
     "showTitle": false,
     "title": ""
    },
    "id": "6uP759x8lSCN"
   },
   "source": [
    "# Step 05: Running the model\n",
    "Here we solve the linear optimal power flow defined in the PyPSA network created in the step before. We print the optimal capacities (in MW) of wind, solar and batteries found by the solver."
   ]
  },
  {
   "cell_type": "code",
   "execution_count": null,
   "metadata": {
    "application/vnd.databricks.v1+cell": {
     "cellMetadata": {
      "byteLimit": 2048000,
      "rowLimit": 10000
     },
     "inputWidgets": {},
     "nuid": "c9d61dcb-de5f-4742-a56f-a82e3d4a1d1b",
     "showTitle": false,
     "title": ""
    },
    "colab": {
     "base_uri": "https://localhost:8080/"
    },
    "id": "jFDt9H5kpOy4",
    "outputId": "c4bbb7f6-3322-44fd-90b4-51d6bdd3cec8"
   },
   "outputs": [],
   "source": [
    "network.optimize(solver_name='cbc')\n",
    "\n",
    "print(round( network.generators.p_nom_opt ))\n",
    "print(round(network.storage_units.p_nom_opt))"
   ]
  },
  {
   "cell_type": "code",
   "execution_count": null,
   "metadata": {
    "application/vnd.databricks.v1+cell": {
     "cellMetadata": {
      "byteLimit": 2048000,
      "rowLimit": 10000
     },
     "inputWidgets": {},
     "nuid": "543eae60-e0a6-4381-909f-c0ea88a3ae44",
     "showTitle": false,
     "title": ""
    }
   },
   "outputs": [],
   "source": [
    "network.statistics.expanded_capacity()"
   ]
  },
  {
   "cell_type": "markdown",
   "metadata": {
    "application/vnd.databricks.v1+cell": {
     "cellMetadata": {},
     "inputWidgets": {},
     "nuid": "6b243a78-a8e5-4719-92f2-ee0c7cda35a5",
     "showTitle": false,
     "title": ""
    },
    "id": "syPJqWidnOtk"
   },
   "source": [
    "# Step 06: Plotting the dispatching\n",
    "To plot the generation of the three assets modeled in this example we need to insert the data contained in the `network` object into a Pandas data frame. This is eventually used for a plot made with [plotnine](https://plotnine.readthedocs.io/en/stable/)"
   ]
  },
  {
   "cell_type": "code",
   "execution_count": null,
   "metadata": {
    "application/vnd.databricks.v1+cell": {
     "cellMetadata": {
      "byteLimit": 2048000,
      "rowLimit": 10000
     },
     "inputWidgets": {},
     "nuid": "ba5759a1-1fe5-468d-b086-5f24d854dda2",
     "showTitle": false,
     "title": ""
    },
    "colab": {
     "base_uri": "https://localhost:8080/",
     "height": 206
    },
    "id": "8sODszYHu_k_",
    "outputId": "9ddc657c-5233-4b32-8a07-25fb7018494a"
   },
   "outputs": [],
   "source": [
    "gen_list = network.generators[['bus']].reset_index()\n",
    "gen_list['type'] = gen_list['Generator'].str.split('_', expand = True).iloc[:,0]\n",
    "gen = (pd.merge(\n",
    "    network.generators_t.p\n",
    "    .unstack()\n",
    "    .reset_index(), gen_list)\n",
    "       .groupby(['type', 'bus', 'snapshot'])\n",
    "       .sum()\n",
    "       .reset_index()\n",
    "      ).rename(columns = {0: 'prod'})\n",
    "\n",
    "sto_list = network.storage_units[['bus']].reset_index()\n",
    "sto_list['type'] = sto_list['StorageUnit'].str.split('_', expand = True).iloc[:,0]\n",
    "sto = (pd.merge(\n",
    "    network.storage_units_t.p\n",
    "    .unstack()\n",
    "    .reset_index(), sto_list)\n",
    "       .groupby(['type', 'bus', 'snapshot'])\n",
    "       .sum().reset_index()\n",
    "      ).rename(columns = {0: 'prod'})\n",
    "\n",
    "df = pd.concat([gen, sto])\n",
    "df.head()"
   ]
  },
  {
   "cell_type": "code",
   "execution_count": null,
   "metadata": {
    "application/vnd.databricks.v1+cell": {
     "cellMetadata": {
      "byteLimit": 2048000,
      "rowLimit": 10000
     },
     "inputWidgets": {},
     "nuid": "56f8b97d-4d41-4989-a4e4-2b1baa1d4c2b",
     "showTitle": false,
     "title": ""
    },
    "colab": {
     "base_uri": "https://localhost:8080/",
     "height": 434
    },
    "id": "sJo6KoRzuZL_",
    "outputId": "631b3498-ab76-4d5d-e6ab-2ecb9391680b"
   },
   "outputs": [],
   "source": [
    "import plotnine\n",
    "plotnine.options.figure_size = (12, 4)\n",
    "\n",
    "(\n",
    "    plotnine.ggplot(pd.DataFrame(network.loads_t.p_set.L1).reset_index(), plotnine.aes(x='snapshot', y='L1')) +\n",
    "    plotnine.geom_area(plotnine.aes(x = 'snapshot', y = 'prod', fill = 'type'), data= df) +\n",
    "    plotnine.geom_line() +\n",
    "    plotnine.theme_bw()\n",
    ")"
   ]
  }
 ],
 "metadata": {
  "application/vnd.databricks.v1+notebook": {
   "dashboards": [],
   "environmentMetadata": null,
   "language": "python",
   "notebookMetadata": {
    "pythonIndentUnit": 4
   },
   "notebookName": "E.001",
   "widgets": {}
  },
  "colab": {
   "provenance": []
  },
  "kernelspec": {
   "display_name": "Python 3",
   "name": "python3"
  },
  "language_info": {
   "codemirror_mode": {
    "name": "ipython",
    "version": 3
   },
   "file_extension": ".py",
   "mimetype": "text/x-python",
   "name": "python",
   "nbconvert_exporter": "python",
   "pygments_lexer": "ipython3",
   "version": "3.11.9"
  }
 },
 "nbformat": 4,
 "nbformat_minor": 0
}
