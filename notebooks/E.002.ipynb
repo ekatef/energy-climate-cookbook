{
 "cells": [
  {
   "cell_type": "markdown",
   "metadata": {},
   "source": [
    "### Modules used in this notebook\n",
    "pypsa, plotnine"
   ]
  },
  {
   "cell_type": "markdown",
   "metadata": {
    "application/vnd.databricks.v1+cell": {
     "cellMetadata": {},
     "inputWidgets": {},
     "nuid": "149fd4e3-6c87-4de8-9650-58a1989dc777",
     "showTitle": false,
     "title": ""
    },
    "id": "pUoJmIqaGa-g"
   },
   "source": [
    "## E.002: Creating your first power system model\n",
    "In this notebook you will create a simple power system model simulating a system with specific month of the year using wind and solar profiles based on atmospheric reanalysis data. The model will be optimised to define the optimal capacity of batteries needed to balance the system."
   ]
  },
  {
   "cell_type": "markdown",
   "metadata": {
    "application/vnd.databricks.v1+cell": {
     "cellMetadata": {},
     "inputWidgets": {},
     "nuid": "3f3537bf-c6fb-4c35-8e6a-0572b2ada7b6",
     "showTitle": false,
     "title": ""
    },
    "id": "Br6zganalCxo"
   },
   "source": [
    "# Step 01: Setting up the environment\n",
    "This part of the notebook install the needed Python modules and the solver ([cbc](https://github.com/coin-or/Cbc), a widely-used open source solver).\n",
    "The installed Python modules are:\n",
    "  - PyPSA: [an open-source power system model](https://pypsa.org/)"
   ]
  },
  {
   "cell_type": "code",
   "execution_count": null,
   "metadata": {
    "application/vnd.databricks.v1+cell": {
     "cellMetadata": {
      "byteLimit": 2048000,
      "rowLimit": 10000
     },
     "inputWidgets": {},
     "nuid": "5d7e988c-d0bc-49d4-bdf8-6fffe60407ff",
     "showTitle": false,
     "title": ""
    },
    "colab": {
     "base_uri": "https://localhost:8080/"
    },
    "id": "d3F-oXszpANo",
    "outputId": "c92a73cb-c7b2-44a0-9faa-e5de4b304f32"
   },
   "outputs": [],
   "source": [
    "!pip install plotnine\n",
    "!pip install pypsa # power system model\n",
    "!apt-get install -y -qq coinor-cbc # open source solver"
   ]
  },
  {
   "cell_type": "markdown",
   "metadata": {
    "application/vnd.databricks.v1+cell": {
     "cellMetadata": {},
     "inputWidgets": {},
     "nuid": "f2ac0e33-289c-4397-b951-c0a554426d06",
     "showTitle": false,
     "title": ""
    },
    "id": "qU97kt7NPund"
   },
   "source": [
    "# Step 02: Read wind, solar, demand data\n",
    "Here the download a set of Parquet files containing the electricity demand, wind and solar profiles based on [this dataset](https://researchdata.reading.ac.uk/272/) developed by Bloomfield et al., University of Reading.\n",
    "\n",
    "The Parquet files provide a data frame with the hourly values for all the European countries for the years 2000-2019 (the original dataset goes back to 1979 but we have kept only the last 20 years to reduce the amount of storage needed to run this notebook)."
   ]
  },
  {
   "cell_type": "code",
   "execution_count": null,
   "metadata": {
    "application/vnd.databricks.v1+cell": {
     "cellMetadata": {
      "byteLimit": 2048000,
      "rowLimit": 10000
     },
     "inputWidgets": {},
     "nuid": "430bbe39-63c3-49b7-9f4d-035fd1372002",
     "showTitle": false,
     "title": ""
    },
    "colab": {
     "base_uri": "https://localhost:8080/",
     "height": 342
    },
    "id": "33o_CJfnYLa9",
    "outputId": "e6bc6a59-3225-4b31-e8e4-406a60fbaf1d"
   },
   "outputs": [],
   "source": [
    "import pandas as pd\n",
    "dem = pd.read_parquet('../data/ERA5_full_demand_all_countries_2000_2019_hourly.parquet')\n",
    "pv  = pd.read_parquet('../data/ERA5_solar_power_capacity_factor_all_countries_2000_2019_hourly.parquet')\n",
    "win = pd.read_parquet('../data/ERA5_wind_power_capacity_factor_all_countries_2000_2019_inclusive.parquet')\n",
    "dem.head()"
   ]
  },
  {
   "cell_type": "markdown",
   "metadata": {
    "application/vnd.databricks.v1+cell": {
     "cellMetadata": {},
     "inputWidgets": {},
     "nuid": "d0815e3f-d336-4c35-92f6-ab8e85e327dc",
     "showTitle": false,
     "title": ""
    },
    "id": "TNL-CqgKo3F3"
   },
   "source": [
    "# Step 03: selecting year, month, and country\n",
    "In this example we simulate a power system model consisting of a wind power farm, a solar plant and a lithium-ion battery using the electricity demand and the RES profiles (capacity factors) for a specific country and a specific month."
   ]
  },
  {
   "cell_type": "code",
   "execution_count": null,
   "metadata": {
    "application/vnd.databricks.v1+cell": {
     "cellMetadata": {
      "byteLimit": 2048000,
      "rowLimit": 10000
     },
     "inputWidgets": {},
     "nuid": "e923e331-a60f-4624-9b21-e8e726c41d44",
     "showTitle": false,
     "title": ""
    },
    "id": "zy3OG79spC1M"
   },
   "outputs": [],
   "source": [
    "selected_year = 2012 # 2000-2019\n",
    "selected_month = 2 # 1 = January, 12 = December\n",
    "country = 'Spain'"
   ]
  },
  {
   "cell_type": "code",
   "execution_count": null,
   "metadata": {
    "application/vnd.databricks.v1+cell": {
     "cellMetadata": {
      "byteLimit": 2048000,
      "rowLimit": 10000
     },
     "inputWidgets": {},
     "nuid": "ee11caab-77f8-46c5-83c4-c73273162c15",
     "showTitle": false,
     "title": ""
    },
    "id": "SOL2ZtGSnq6-"
   },
   "outputs": [],
   "source": [
    "# Select demand, solar (PV) and wind profiles\n",
    "selected_dem = dem.loc[(pd.DatetimeIndex(dem['datetime']).year == selected_year) & (pd.DatetimeIndex(dem['datetime']).month == selected_month)][country]\n",
    "selected_pv  = pv.loc[(pd.DatetimeIndex(pv['datetime']).year == selected_year) & (pd.DatetimeIndex(pv['datetime']).month == selected_month)][country]\n",
    "selected_win = win.loc[(pd.DatetimeIndex(win['datetime']).year == selected_year) & (pd.DatetimeIndex(win['datetime']).month == selected_month)][country]"
   ]
  },
  {
   "cell_type": "markdown",
   "metadata": {
    "application/vnd.databricks.v1+cell": {
     "cellMetadata": {},
     "inputWidgets": {},
     "nuid": "87663cc6-7870-4978-a1c8-2e2c6436e1b3",
     "showTitle": false,
     "title": ""
    },
    "id": "KawTfPF6P92A"
   },
   "source": [
    "# Step 04: Building the power system model\n",
    "\n",
    "*   List item\n",
    "*   List item\n",
    "\n",
    "\n",
    "We create here a single-bus PyPSA network with:\n",
    "  - `Wind`: A wind generator with the cost of 35 000 EUR per MW\n",
    "  - `Solar`: a solar generator with the cost of 20 000 EUR per MW\n",
    "  - `Battery`: a battery with 3 hours of storage with the cost of 45 000 EUR per MW. The efficiency is 90%.\n",
    "\n",
    "The system has an electricity demand defined by the load `L1`"
   ]
  },
  {
   "cell_type": "code",
   "execution_count": null,
   "metadata": {
    "application/vnd.databricks.v1+cell": {
     "cellMetadata": {
      "byteLimit": 2048000,
      "rowLimit": 10000
     },
     "inputWidgets": {},
     "nuid": "907c91e3-3660-4cc2-953e-24a35421e320",
     "showTitle": false,
     "title": ""
    },
    "id": "moybk7qLPts7"
   },
   "outputs": [],
   "source": [
    "import pypsa, logging\n",
    "pypsa.pf.logger.setLevel(logging.WARNING)\n",
    "\n",
    "network = pypsa.Network(snapshots = selected_dem.index)\n",
    "network.add(\"Bus\", \"B1\")\n",
    "\n",
    "network.add(\"Generator\", \"Wind\",\n",
    "            carrier = 'wind',\n",
    "            bus=\"B1\",\n",
    "            capital_cost = 35_000,\n",
    "            p_max_pu = selected_win,\n",
    "            p_nom_extendable = True,\n",
    "            control=\"PQ\")\n",
    "\n",
    "network.add(\"Generator\", \"Solar\",\n",
    "            carrier = 'solar',\n",
    "            bus=\"B1\",\n",
    "            capital_cost = 20_000,\n",
    "            p_max_pu = selected_pv,\n",
    "            p_nom_extendable = True,\n",
    "            control=\"PQ\")\n",
    "\n",
    "network.add(\"StorageUnit\", \"Battery\",\n",
    "            bus=\"B1\",\n",
    "            capital_cost = 45_000,\n",
    "            efficiency_store = 0.9,\n",
    "            efficiency_dispatch = 0.9,\n",
    "            max_hours = 3,\n",
    "            p_nom_extendable = True\n",
    "            )\n",
    "\n",
    "network.add(\"Load\", \"L1\",\n",
    "            bus=\"B1\",\n",
    "            p_set=selected_dem*1e3)\n"
   ]
  },
  {
   "cell_type": "code",
   "execution_count": null,
   "metadata": {
    "application/vnd.databricks.v1+cell": {
     "cellMetadata": {
      "byteLimit": 2048000,
      "rowLimit": 10000
     },
     "inputWidgets": {},
     "nuid": "7491c855-ea95-4813-84b8-b4cb392f1030",
     "showTitle": false,
     "title": ""
    },
    "colab": {
     "base_uri": "https://localhost:8080/",
     "height": 175
    },
    "id": "1WAnkpzhQMaI",
    "outputId": "0686a9bf-4a35-4ce2-d1b1-46f741abd4de"
   },
   "outputs": [],
   "source": [
    "# prompt: A Pandas data frame containing in one column the values from selected_dem and in the column \"hour\" the values from 0 to 23 repeating 30 times.\n",
    "\n",
    "import pandas as pd\n",
    "flex_df = pd.DataFrame(\n",
    "    selected_dem\n",
    ")\n",
    "flex_df['hour'] = list(range(24))*int(len(selected_dem)/24)\n",
    "flex_df['e_min_pu'] = 0.5\n",
    "flex_df.loc[(flex_df.hour > 9) & (flex_df.hour < 19), 'e_min_pu'] = 0\n",
    "flex_df['e_max_pu'] = 0.5\n",
    "flex_df.loc[(flex_df.hour > 9) & (flex_df.hour < 19), 'e_max_pu'] = 1\n",
    "flex_df.head(4)\n"
   ]
  },
  {
   "cell_type": "code",
   "execution_count": null,
   "metadata": {
    "application/vnd.databricks.v1+cell": {
     "cellMetadata": {
      "byteLimit": 2048000,
      "rowLimit": 10000
     },
     "inputWidgets": {},
     "nuid": "49ca76c7-97a6-46ae-b1bf-7296f1a67fd0",
     "showTitle": false,
     "title": ""
    },
    "id": "gsKzlzS1Nfp8"
   },
   "outputs": [],
   "source": [
    "FLEX_AMOUNT = (selected_dem.max() * 1e3 * 0.1) * 2\n",
    "network.add(\n",
    "    \"Bus\", \"Bus_B1_DSR\"\n",
    ")\n",
    "network.add(\n",
    "    \"Store\", \"B1_DSR\",\n",
    "    bus = \"Bus_B1_DSR\",\n",
    "\n",
    "    e_nom = FLEX_AMOUNT * 2,\n",
    "    e_initial = FLEX_AMOUNT,\n",
    "    e_min_pu = flex_df['e_min_pu'],\n",
    "    e_max_pu = flex_df['e_max_pu']\n",
    "\n",
    ")\n",
    "network.add(\n",
    "    \"Link\", \"Link_B1_DSR\",\n",
    "    bus0 = \"B1\",\n",
    "    bus1 = \"Bus_B1_DSR\",\n",
    "    p_nom = FLEX_AMOUNT,\n",
    "    p_min_pu = -1\n",
    ")"
   ]
  },
  {
   "cell_type": "markdown",
   "metadata": {
    "application/vnd.databricks.v1+cell": {
     "cellMetadata": {},
     "inputWidgets": {},
     "nuid": "45ec8b1d-56ee-43d9-919c-994303ae60fc",
     "showTitle": false,
     "title": ""
    },
    "id": "6uP759x8lSCN"
   },
   "source": [
    "# Step 05: Running the model\n",
    "Here we solve the linear optimal power flow defined in the PyPSA network created in the step before. We print the optimal capacities (in MW) of wind, solar and batteries found by the solver."
   ]
  },
  {
   "cell_type": "code",
   "execution_count": null,
   "metadata": {
    "application/vnd.databricks.v1+cell": {
     "cellMetadata": {
      "byteLimit": 2048000,
      "rowLimit": 10000
     },
     "inputWidgets": {},
     "nuid": "b0ff351e-1f08-4342-8f5d-922d28a6db56",
     "showTitle": false,
     "title": ""
    },
    "colab": {
     "base_uri": "https://localhost:8080/"
    },
    "id": "jFDt9H5kpOy4",
    "outputId": "c4bbb7f6-3322-44fd-90b4-51d6bdd3cec8"
   },
   "outputs": [],
   "source": [
    "network.optimize(solver_name = 'cbc')\n",
    "\n",
    "print(round( network.generators.p_nom_opt ))\n",
    "print(round(network.storage_units.p_nom_opt))"
   ]
  },
  {
   "cell_type": "code",
   "execution_count": null,
   "metadata": {
    "application/vnd.databricks.v1+cell": {
     "cellMetadata": {
      "byteLimit": 2048000,
      "rowLimit": 10000
     },
     "inputWidgets": {},
     "nuid": "72aa3053-51ce-401e-b426-39e49e7f02f3",
     "showTitle": false,
     "title": ""
    }
   },
   "outputs": [],
   "source": [
    "network.statistics.expanded_capacity()"
   ]
  },
  {
   "cell_type": "markdown",
   "metadata": {
    "application/vnd.databricks.v1+cell": {
     "cellMetadata": {},
     "inputWidgets": {},
     "nuid": "de6de699-6892-48ed-a147-476a28640064",
     "showTitle": false,
     "title": ""
    },
    "id": "syPJqWidnOtk"
   },
   "source": [
    "# Step 06: Plotting the dispatching\n",
    "To plot the generation of the three assets modeled in this example we need to insert the data contained in the `network` object into a Pandas data frame. This is eventually used for a plot made with [plotnine](https://plotnine.readthedocs.io/en/stable/)"
   ]
  },
  {
   "cell_type": "code",
   "execution_count": null,
   "metadata": {
    "application/vnd.databricks.v1+cell": {
     "cellMetadata": {
      "byteLimit": 2048000,
      "rowLimit": 10000
     },
     "inputWidgets": {},
     "nuid": "1c888b25-d20e-48f8-a571-5562a08a2e90",
     "showTitle": false,
     "title": ""
    },
    "colab": {
     "base_uri": "https://localhost:8080/",
     "height": 206
    },
    "id": "8sODszYHu_k_",
    "outputId": "9ddc657c-5233-4b32-8a07-25fb7018494a"
   },
   "outputs": [],
   "source": [
    "gen_list = network.generators[['bus']].reset_index()\n",
    "gen_list['type'] = gen_list['Generator'].str.split('_', expand = True).iloc[:,0]\n",
    "gen = (pd.merge(\n",
    "    network.generators_t.p\n",
    "    .unstack()\n",
    "    .reset_index(), gen_list)\n",
    "       .groupby(['type', 'bus', 'snapshot'])\n",
    "       .sum()\n",
    "       .reset_index()\n",
    "      ).rename(columns = {0: 'prod'})\n",
    "\n",
    "sto_list = network.storage_units[['bus']].reset_index()\n",
    "sto_list['type'] = sto_list['StorageUnit'].str.split('_', expand = True).iloc[:,0]\n",
    "sto = (pd.merge(\n",
    "    network.storage_units_t.p\n",
    "    .unstack()\n",
    "    .reset_index(), sto_list)\n",
    "       .groupby(['type', 'bus', 'snapshot'])\n",
    "       .sum().reset_index()\n",
    "      ).rename(columns = {0: 'prod'})\n",
    "\n",
    "df = pd.concat([gen, sto])\n",
    "df.head()"
   ]
  },
  {
   "cell_type": "code",
   "execution_count": null,
   "metadata": {
    "application/vnd.databricks.v1+cell": {
     "cellMetadata": {
      "byteLimit": 2048000,
      "rowLimit": 10000
     },
     "inputWidgets": {},
     "nuid": "2e241b87-619d-4aa7-86fa-c6ca63dd3dab",
     "showTitle": false,
     "title": ""
    },
    "colab": {
     "base_uri": "https://localhost:8080/",
     "height": 434
    },
    "id": "sJo6KoRzuZL_",
    "outputId": "631b3498-ab76-4d5d-e6ab-2ecb9391680b"
   },
   "outputs": [],
   "source": [
    "import plotnine\n",
    "plotnine.options.figure_size = (12, 4)\n",
    "\n",
    "(\n",
    "    plotnine.ggplot(pd.DataFrame(network.loads_t.p_set.L1).reset_index(), plotnine.aes(x='snapshot', y='L1')) +\n",
    "    plotnine.geom_area(plotnine.aes(x = 'snapshot', y = 'prod', fill = 'type'), data= df) +\n",
    "    plotnine.geom_line()\n",
    ")"
   ]
  },
  {
   "cell_type": "code",
   "execution_count": null,
   "metadata": {
    "application/vnd.databricks.v1+cell": {
     "cellMetadata": {},
     "inputWidgets": {},
     "nuid": "d588af8c-4452-4bf0-af43-4a8cf5affb9e",
     "showTitle": false,
     "title": ""
    },
    "colab": {
     "base_uri": "https://localhost:8080/",
     "height": 514
    },
    "id": "C3Tf7_XcSUhc",
    "outputId": "03926d26-ec96-45fb-be1d-20ff9a6c7e82"
   },
   "outputs": [],
   "source": [
    "network.links_t.p0[0:168].plot()"
   ]
  }
 ],
 "metadata": {
  "application/vnd.databricks.v1+notebook": {
   "dashboards": [],
   "environmentMetadata": null,
   "language": "python",
   "notebookMetadata": {
    "pythonIndentUnit": 4
   },
   "notebookName": "E.002",
   "widgets": {}
  },
  "colab": {
   "provenance": []
  },
  "kernelspec": {
   "display_name": "Python 3",
   "name": "python3"
  },
  "language_info": {
   "codemirror_mode": {
    "name": "ipython",
    "version": 3
   },
   "file_extension": ".py",
   "mimetype": "text/x-python",
   "name": "python",
   "nbconvert_exporter": "python",
   "pygments_lexer": "ipython3",
   "version": "3.11.9"
  }
 },
 "nbformat": 4,
 "nbformat_minor": 0
}
