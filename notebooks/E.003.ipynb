{
 "cells": [
  {
   "cell_type": "markdown",
   "metadata": {},
   "source": [
    "### Modules used in this notebook\n",
    "pypsa, plotnine"
   ]
  },
  {
   "cell_type": "markdown",
   "metadata": {
    "application/vnd.databricks.v1+cell": {
     "cellMetadata": {},
     "inputWidgets": {},
     "nuid": "b4805b08-b647-42fa-8757-8e187ba8269d",
     "showTitle": false,
     "title": ""
    },
    "id": "pUoJmIqaGa-g"
   },
   "source": [
    "# E.002 Extending this model to include two countries\n",
    "In this notebook you will create a simple power system model simulating a system with two regions connected together with specific month of the year using wind based on atmospheric reanalysis data. The model will be optimised to define the optimal capacity of batteries needed to balance the system."
   ]
  },
  {
   "cell_type": "markdown",
   "metadata": {
    "application/vnd.databricks.v1+cell": {
     "cellMetadata": {},
     "inputWidgets": {},
     "nuid": "d2a29579-7f47-4555-aa81-2a67cfd5cd88",
     "showTitle": false,
     "title": ""
    },
    "id": "Br6zganalCxo"
   },
   "source": [
    "# Step 01: Setting up the environment\n",
    "This part of the notebook install the needed Python modules and the solver ([cbc](https://github.com/coin-or/Cbc), a widely-used open source solver).\n",
    "The installed modules are:\n",
    "  - PyPSA: [an open-source power system model](https://pypsa.org/)"
   ]
  },
  {
   "cell_type": "code",
   "execution_count": null,
   "metadata": {
    "application/vnd.databricks.v1+cell": {
     "cellMetadata": {
      "byteLimit": 2048000,
      "rowLimit": 10000
     },
     "inputWidgets": {},
     "nuid": "50595230-30d5-4169-a6fe-11bfdd96816e",
     "showTitle": false,
     "title": ""
    },
    "colab": {
     "base_uri": "https://localhost:8080/"
    },
    "id": "d3F-oXszpANo",
    "outputId": "419be6f3-e088-4ce8-8957-adbb39d7ec2c"
   },
   "outputs": [],
   "source": [
    "!pip install plotnine\n",
    "!pip install pypsa # power system model\n",
    "!apt-get install -y -qq coinor-cbc # open source solver"
   ]
  },
  {
   "cell_type": "markdown",
   "metadata": {
    "application/vnd.databricks.v1+cell": {
     "cellMetadata": {},
     "inputWidgets": {},
     "nuid": "77527206-4a0d-453e-84c2-7d6f20b3e217",
     "showTitle": false,
     "title": ""
    },
    "id": "qU97kt7NPund"
   },
   "source": [
    "# Step 02: Read wind, demand data\n",
    "Here the download a set of Parquet files containing the electricity demand, wind and solar profiles based on [this dataset](https://researchdata.reading.ac.uk/272/) developed by Bloomfield et al., University of Reading.\n",
    "\n",
    "The Parquet files provide a data frame with the hourly values for all the European countries for the years 2000-2019 (the original dataset goes back to 1979 but we have kept only the last 20 years to reduce the amount of storage needed to run this notebook)."
   ]
  },
  {
   "cell_type": "code",
   "execution_count": null,
   "metadata": {
    "application/vnd.databricks.v1+cell": {
     "cellMetadata": {
      "byteLimit": 2048000,
      "rowLimit": 10000
     },
     "inputWidgets": {},
     "nuid": "fd86ad49-00d1-449e-bd90-c0866e005131",
     "showTitle": false,
     "title": ""
    },
    "colab": {
     "base_uri": "https://localhost:8080/",
     "height": 386
    },
    "id": "33o_CJfnYLa9",
    "outputId": "8487f89f-530d-46ef-9cad-0599e341f417"
   },
   "outputs": [],
   "source": [
    "import pandas as pd\n",
    "dem = pd.read_parquet('../data/ERA5_full_demand_all_countries_2000_2019_hourly.parquet')\n",
    "# pv  = pd.read_parquet('ERA5_solar_power_capacity_factor_all_countries_2000_2019_hourly.parquet')\n",
    "win = pd.read_parquet('../data/ERA5_wind_power_capacity_factor_all_countries_2000_2019_inclusive.parquet')\n",
    "dem.head()"
   ]
  },
  {
   "cell_type": "markdown",
   "metadata": {
    "application/vnd.databricks.v1+cell": {
     "cellMetadata": {},
     "inputWidgets": {},
     "nuid": "2afb167c-4855-4e21-be2b-176b3ce5fcb8",
     "showTitle": false,
     "title": ""
    },
    "id": "TNL-CqgKo3F3"
   },
   "source": [
    "# Step 03: selecting year, month, and the two countries\n",
    "In this example we simulate a power system model consisting of two regions, each one with a wind power farm and a lithium-ion battery, connected together with an interconnector. We specify the electricity demand and the RES profiles (capacity factors) for a specific month."
   ]
  },
  {
   "cell_type": "code",
   "execution_count": null,
   "metadata": {
    "application/vnd.databricks.v1+cell": {
     "cellMetadata": {
      "byteLimit": 2048000,
      "rowLimit": 10000
     },
     "inputWidgets": {},
     "nuid": "74888360-134f-4db8-a891-d80d6268d029",
     "showTitle": false,
     "title": ""
    },
    "id": "zy3OG79spC1M"
   },
   "outputs": [],
   "source": [
    "selected_year = 2012 # 2000-2019\n",
    "selected_month = 2 # 1 = January, 12 = December\n",
    "country01 = 'Spain'\n",
    "country02 = 'Denmark'"
   ]
  },
  {
   "cell_type": "code",
   "execution_count": null,
   "metadata": {
    "application/vnd.databricks.v1+cell": {
     "cellMetadata": {
      "byteLimit": 2048000,
      "rowLimit": 10000
     },
     "inputWidgets": {},
     "nuid": "06154d6b-3ae7-4af0-9a82-f39142373c72",
     "showTitle": false,
     "title": ""
    },
    "id": "SOL2ZtGSnq6-"
   },
   "outputs": [],
   "source": [
    "# Select demand  and wind profiles\n",
    "selected_dem_01 = dem.loc[(pd.DatetimeIndex(dem['datetime']).year == selected_year) & (pd.DatetimeIndex(dem['datetime']).month == selected_month)][country01]\n",
    "selected_win_01 = win.loc[(pd.DatetimeIndex(win['datetime']).year == selected_year) & (pd.DatetimeIndex(win['datetime']).month == selected_month)][country01]\n",
    "\n",
    "selected_dem_02 = dem.loc[(pd.DatetimeIndex(dem['datetime']).year == selected_year) & (pd.DatetimeIndex(dem['datetime']).month == selected_month)][country02]\n",
    "selected_win_02 = win.loc[(pd.DatetimeIndex(win['datetime']).year == selected_year) & (pd.DatetimeIndex(win['datetime']).month == selected_month)][country02]"
   ]
  },
  {
   "cell_type": "markdown",
   "metadata": {
    "application/vnd.databricks.v1+cell": {
     "cellMetadata": {},
     "inputWidgets": {},
     "nuid": "49a57d19-8934-4489-82c2-f3eb5b8bd5e2",
     "showTitle": false,
     "title": ""
    },
    "id": "KawTfPF6P92A"
   },
   "source": [
    "# Step 04: Building the power system model\n",
    "We create here a single-bus PyPSA network with:\n",
    "  - `Wind`: A wind generator with the cost of 100 000 EUR per MW\n",
    "  - `Battery`: a battery with 3 hours of storage with the cost of 30 000 EUR per MW. The efficiency is 90%.\n",
    "\n",
    "The system has an electricity demand defined by the load `L1`"
   ]
  },
  {
   "cell_type": "code",
   "execution_count": null,
   "metadata": {
    "application/vnd.databricks.v1+cell": {
     "cellMetadata": {
      "byteLimit": 2048000,
      "rowLimit": 10000
     },
     "inputWidgets": {},
     "nuid": "4d2093d7-b4a9-49b5-94de-75f5b93c9a52",
     "showTitle": false,
     "title": ""
    },
    "id": "moybk7qLPts7"
   },
   "outputs": [],
   "source": [
    "import pypsa, logging\n",
    "pypsa.pf.logger.setLevel(logging.WARNING)\n",
    "\n",
    "network = pypsa.Network(snapshots = selected_dem_01.index)\n",
    "network.add(\"Bus\", \"B1\")\n",
    "network.add(\"Bus\", \"B2\")\n",
    "\n",
    "network.add(\"Generator\", \"Wind01\",\n",
    "            bus=\"B1\",\n",
    "            capital_cost = 100_000,\n",
    "            p_max_pu = selected_win_01,\n",
    "            p_nom_extendable = True,\n",
    "            control=\"PQ\")\n",
    "\n",
    "network.add(\"Generator\", \"Wind02\",\n",
    "            bus=\"B2\",\n",
    "            capital_cost = 100_000,\n",
    "            p_max_pu = selected_win_02,\n",
    "            p_nom_extendable = True,\n",
    "            control=\"PQ\")\n",
    "\n",
    "\n",
    "network.add(\"StorageUnit\", \"Battery01\",\n",
    "            bus=\"B1\",\n",
    "            capital_cost = 30_000,\n",
    "            efficiency_store = 0.9,\n",
    "            efficiency_dispatch = 0.9,\n",
    "            max_hours = 3,\n",
    "            p_nom_extendable = True\n",
    "            )\n",
    "\n",
    "network.add(\"StorageUnit\", \"Battery02\",\n",
    "            bus=\"B2\",\n",
    "            capital_cost = 30_000,\n",
    "            efficiency_store = 0.9,\n",
    "            efficiency_dispatch = 0.9,\n",
    "            max_hours = 3,\n",
    "            p_nom_extendable = True\n",
    "            )\n",
    "\n",
    "network.add('Link', 'ITC01-02',\n",
    "            bus0 = 'B1',\n",
    "            bus1 = 'B2',\n",
    "            p_min_pu = -1,\n",
    "            marginal_cost = 0.1,\n",
    "            p_nom = 8000 )\n",
    "\n",
    "network.add(\"Load\", \"L1\",\n",
    "            bus=\"B1\",\n",
    "            p_set=selected_dem_01*1e3)\n",
    "network.add(\"Load\", \"L2\",\n",
    "            bus=\"B2\",\n",
    "            p_set=selected_dem_02*1e3)\n"
   ]
  },
  {
   "cell_type": "markdown",
   "metadata": {
    "application/vnd.databricks.v1+cell": {
     "cellMetadata": {},
     "inputWidgets": {},
     "nuid": "478e38b4-709f-4803-ad23-931f7db6bed1",
     "showTitle": false,
     "title": ""
    },
    "id": "6uP759x8lSCN"
   },
   "source": [
    "# Step 05: Running the model\n",
    "Here we solve the linear optimal power flow defined in the PyPSA network created in the step before. We print the optimal capacities (in MW) of wind, solar and batteries found by the solver."
   ]
  },
  {
   "cell_type": "code",
   "execution_count": null,
   "metadata": {
    "application/vnd.databricks.v1+cell": {
     "cellMetadata": {
      "byteLimit": 2048000,
      "rowLimit": 10000
     },
     "inputWidgets": {},
     "nuid": "216d16d3-e030-413e-9abf-18ce91383c25",
     "showTitle": false,
     "title": ""
    },
    "colab": {
     "base_uri": "https://localhost:8080/"
    },
    "id": "jFDt9H5kpOy4",
    "outputId": "9203b363-c387-4d4c-c61f-85d57219ccf8"
   },
   "outputs": [],
   "source": [
    "network.optimize(solver_name = 'cbc')"
   ]
  },
  {
   "cell_type": "code",
   "execution_count": null,
   "metadata": {
    "application/vnd.databricks.v1+cell": {
     "cellMetadata": {
      "byteLimit": 2048000,
      "rowLimit": 10000
     },
     "inputWidgets": {},
     "nuid": "1fd15a24-afd8-4594-9c37-87f243ac0c5c",
     "showTitle": false,
     "title": ""
    }
   },
   "outputs": [],
   "source": [
    "network.statistics.expanded_capacity()"
   ]
  },
  {
   "cell_type": "markdown",
   "metadata": {
    "application/vnd.databricks.v1+cell": {
     "cellMetadata": {},
     "inputWidgets": {},
     "nuid": "523cb625-7177-4026-995e-12330d06cc6e",
     "showTitle": false,
     "title": ""
    },
    "id": "syPJqWidnOtk"
   },
   "source": [
    "# Step 06: Plotting the dispatching\n",
    "To plot the generation of the three assets modeled in this example we need to insert the data contained in the `network` object into a Pandas data frame. This is eventually used for a plot made with [plotnine](https://plotnine.readthedocs.io/en/stable/)"
   ]
  },
  {
   "cell_type": "code",
   "execution_count": null,
   "metadata": {
    "application/vnd.databricks.v1+cell": {
     "cellMetadata": {
      "byteLimit": 2048000,
      "rowLimit": 10000
     },
     "inputWidgets": {},
     "nuid": "efdf5efd-28ac-4985-8e09-50c023d6501b",
     "showTitle": false,
     "title": ""
    },
    "colab": {
     "base_uri": "https://localhost:8080/",
     "height": 206
    },
    "id": "8sODszYHu_k_",
    "outputId": "cc6fb02d-cf9a-4cf3-cd7d-88b5a75adf51"
   },
   "outputs": [],
   "source": [
    "gen_list = network.generators[['bus']].reset_index()\n",
    "gen_list['type'] = gen_list['Generator'].str.split('_', expand = True).iloc[:,0]\n",
    "gen = (pd.merge(\n",
    "    network.generators_t.p\n",
    "    .unstack()\n",
    "    .reset_index(), gen_list)\n",
    "       .groupby(['type', 'bus', 'snapshot'])\n",
    "       .sum()\n",
    "       .reset_index()\n",
    "      ).rename(columns = {0: 'prod'})\n",
    "\n",
    "sto_list = network.storage_units[['bus']].reset_index()\n",
    "sto_list['type'] = sto_list['StorageUnit'].str.split('_', expand = True).iloc[:,0]\n",
    "sto = (pd.merge(\n",
    "    network.storage_units_t.p\n",
    "    .unstack()\n",
    "    .reset_index(), sto_list)\n",
    "       .groupby(['type', 'bus', 'snapshot'])\n",
    "       .sum().reset_index()\n",
    "      ).rename(columns = {0: 'prod'})\n",
    "\n",
    "df = pd.concat([gen, sto])\n",
    "df.head()"
   ]
  },
  {
   "cell_type": "code",
   "execution_count": null,
   "metadata": {
    "application/vnd.databricks.v1+cell": {
     "cellMetadata": {
      "byteLimit": 2048000,
      "rowLimit": 10000
     },
     "inputWidgets": {},
     "nuid": "180d110f-3fd5-4162-af4e-a9f963d2cd63",
     "showTitle": false,
     "title": ""
    },
    "colab": {
     "base_uri": "https://localhost:8080/",
     "height": 402
    },
    "id": "sJo6KoRzuZL_",
    "outputId": "8a729555-38e3-4abc-81bf-0216dd0adbdd"
   },
   "outputs": [],
   "source": [
    "import plotnine\n",
    "plotnine.options.figure_size = (12, 4)\n",
    "# First country\n",
    "(\n",
    "    plotnine.ggplot(pd.DataFrame(network.loads_t.p_set.L1).reset_index(), plotnine.aes(x='snapshot', y='L1')) +\n",
    "    plotnine.geom_area(plotnine.aes(x = 'snapshot', y = 'prod', fill = 'type'), data= df.query(\"bus == 'B1'\")) +\n",
    "    plotnine.theme_bw() +\n",
    "    plotnine.geom_line()\n",
    ")\n"
   ]
  },
  {
   "cell_type": "code",
   "execution_count": null,
   "metadata": {
    "application/vnd.databricks.v1+cell": {
     "cellMetadata": {
      "byteLimit": 2048000,
      "rowLimit": 10000
     },
     "inputWidgets": {},
     "nuid": "502dbc70-a863-4cb4-ab88-42adc8fe4ee6",
     "showTitle": false,
     "title": ""
    },
    "colab": {
     "base_uri": "https://localhost:8080/",
     "height": 402
    },
    "id": "LiHQhs9RLMGq",
    "outputId": "881aa698-f7e1-46fa-a7fb-eded1b0e003f"
   },
   "outputs": [],
   "source": [
    "# Second country\n",
    "(\n",
    "    plotnine.ggplot(pd.DataFrame(network.loads_t.p_set.L2).reset_index(), plotnine.aes(x='snapshot', y='L2')) +\n",
    "    plotnine.geom_area(plotnine.aes(x = 'snapshot', y = 'prod', fill = 'type'), data= df.query(\"bus == 'B2'\")) +\n",
    "    plotnine.theme_bw() +\n",
    "    plotnine.geom_line()\n",
    ")"
   ]
  },
  {
   "cell_type": "code",
   "execution_count": null,
   "metadata": {
    "application/vnd.databricks.v1+cell": {
     "cellMetadata": {
      "byteLimit": 2048000,
      "rowLimit": 10000
     },
     "inputWidgets": {},
     "nuid": "e1cc6c12-30bf-48b9-a6a1-c64feeeaa50e",
     "showTitle": false,
     "title": ""
    },
    "colab": {
     "base_uri": "https://localhost:8080/",
     "height": 402
    },
    "id": "wM22ROuFvbOw",
    "outputId": "eeb0a82f-4682-4f62-f29e-a90b1b0979c8"
   },
   "outputs": [],
   "source": [
    "# ITC\n",
    "(\n",
    "    plotnine.ggplot(pd.DataFrame(network.links_t.p0).reset_index(), plotnine.aes(x='snapshot', y='ITC01-02')) +\n",
    "    plotnine.geom_hline(yintercept=0, linetype = 'dashed') +\n",
    "    plotnine.geom_line() +\n",
    "    plotnine.theme_bw()\n",
    ")\n"
   ]
  }
 ],
 "metadata": {
  "application/vnd.databricks.v1+notebook": {
   "dashboards": [],
   "environmentMetadata": null,
   "language": "python",
   "notebookMetadata": {
    "mostRecentlyExecutedCommandWithImplicitDF": {
     "commandId": 898048976737503,
     "dataframes": [
      "_sqldf"
     ]
    },
    "pythonIndentUnit": 4
   },
   "notebookName": "E.003",
   "widgets": {}
  },
  "colab": {
   "provenance": []
  },
  "kernelspec": {
   "display_name": "Python 3",
   "name": "python3"
  },
  "language_info": {
   "name": "python"
  }
 },
 "nbformat": 4,
 "nbformat_minor": 0
}
